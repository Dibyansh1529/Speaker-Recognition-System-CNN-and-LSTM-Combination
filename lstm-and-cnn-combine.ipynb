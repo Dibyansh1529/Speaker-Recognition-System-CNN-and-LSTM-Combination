{
 "cells": [
  {
   "cell_type": "code",
   "execution_count": 1,
   "id": "66d7542d",
   "metadata": {
    "_cell_guid": "b1076dfc-b9ad-4769-8c92-a6c4dae69d19",
    "_uuid": "8f2839f25d086af736a60e9eeb907d3b93b6e0e5",
    "execution": {
     "iopub.execute_input": "2025-03-22T06:11:57.022973Z",
     "iopub.status.busy": "2025-03-22T06:11:57.022646Z",
     "iopub.status.idle": "2025-03-22T06:12:12.872367Z",
     "shell.execute_reply": "2025-03-22T06:12:12.871476Z"
    },
    "papermill": {
     "duration": 15.855829,
     "end_time": "2025-03-22T06:12:12.874101",
     "exception": false,
     "start_time": "2025-03-22T06:11:57.018272",
     "status": "completed"
    },
    "tags": []
   },
   "outputs": [],
   "source": [
    "import os\n",
    "import librosa\n",
    "import librosa.display\n",
    "import numpy as np\n",
    "from sklearn.model_selection import train_test_split\n",
    "from sklearn.preprocessing import LabelEncoder, StandardScaler\n",
    "from tensorflow.keras.models import Sequential\n",
    "from tensorflow.keras.layers import Conv2D, MaxPooling2D, Flatten, Dense, Dropout, LSTM\n",
    "from tensorflow.keras.utils import to_categorical\n",
    "import matplotlib.pyplot as plt\n",
    "import warnings\n",
    "warnings.filterwarnings('ignore')\n",
    "import tensorflow as tf\n",
    "from tensorflow.keras.callbacks import EarlyStopping\n",
    "import seaborn as sns\n",
    "from sklearn.metrics import confusion_matrix, accuracy_score, f1_score\n",
    "import time"
   ]
  },
  {
   "cell_type": "code",
   "execution_count": 2,
   "id": "2a5ca33e",
   "metadata": {
    "execution": {
     "iopub.execute_input": "2025-03-22T06:12:12.881283Z",
     "iopub.status.busy": "2025-03-22T06:12:12.880867Z",
     "iopub.status.idle": "2025-03-22T06:12:17.749246Z",
     "shell.execute_reply": "2025-03-22T06:12:17.748396Z"
    },
    "papermill": {
     "duration": 4.873248,
     "end_time": "2025-03-22T06:12:17.750709",
     "exception": false,
     "start_time": "2025-03-22T06:12:12.877461",
     "status": "completed"
    },
    "tags": []
   },
   "outputs": [
    {
     "name": "stdout",
     "output_type": "stream",
     "text": [
      "Collecting resampy\r\n",
      "  Downloading resampy-0.4.3-py3-none-any.whl.metadata (3.0 kB)\r\n",
      "Requirement already satisfied: numpy>=1.17 in /usr/local/lib/python3.10/dist-packages (from resampy) (1.26.4)\r\n",
      "Requirement already satisfied: numba>=0.53 in /usr/local/lib/python3.10/dist-packages (from resampy) (0.60.0)\r\n",
      "Requirement already satisfied: llvmlite<0.44,>=0.43.0dev0 in /usr/local/lib/python3.10/dist-packages (from numba>=0.53->resampy) (0.43.0)\r\n",
      "Requirement already satisfied: mkl_fft in /usr/local/lib/python3.10/dist-packages (from numpy>=1.17->resampy) (1.3.8)\r\n",
      "Requirement already satisfied: mkl_random in /usr/local/lib/python3.10/dist-packages (from numpy>=1.17->resampy) (1.2.4)\r\n",
      "Requirement already satisfied: mkl_umath in /usr/local/lib/python3.10/dist-packages (from numpy>=1.17->resampy) (0.1.1)\r\n",
      "Requirement already satisfied: mkl in /usr/local/lib/python3.10/dist-packages (from numpy>=1.17->resampy) (2025.0.1)\r\n",
      "Requirement already satisfied: tbb4py in /usr/local/lib/python3.10/dist-packages (from numpy>=1.17->resampy) (2022.0.0)\r\n",
      "Requirement already satisfied: mkl-service in /usr/local/lib/python3.10/dist-packages (from numpy>=1.17->resampy) (2.4.1)\r\n",
      "Requirement already satisfied: intel-openmp>=2024 in /usr/local/lib/python3.10/dist-packages (from mkl->numpy>=1.17->resampy) (2024.2.0)\r\n",
      "Requirement already satisfied: tbb==2022.* in /usr/local/lib/python3.10/dist-packages (from mkl->numpy>=1.17->resampy) (2022.0.0)\r\n",
      "Requirement already satisfied: tcmlib==1.* in /usr/local/lib/python3.10/dist-packages (from tbb==2022.*->mkl->numpy>=1.17->resampy) (1.2.0)\r\n",
      "Requirement already satisfied: intel-cmplr-lib-rt in /usr/local/lib/python3.10/dist-packages (from mkl_umath->numpy>=1.17->resampy) (2024.2.0)\r\n",
      "Requirement already satisfied: intel-cmplr-lib-ur==2024.2.0 in /usr/local/lib/python3.10/dist-packages (from intel-openmp>=2024->mkl->numpy>=1.17->resampy) (2024.2.0)\r\n",
      "Downloading resampy-0.4.3-py3-none-any.whl (3.1 MB)\r\n",
      "\u001b[2K   \u001b[90m━━━━━━━━━━━━━━━━━━━━━━━━━━━━━━━━━━━━━━━━\u001b[0m \u001b[32m3.1/3.1 MB\u001b[0m \u001b[31m34.6 MB/s\u001b[0m eta \u001b[36m0:00:00\u001b[0m\r\n",
      "\u001b[?25hInstalling collected packages: resampy\r\n",
      "Successfully installed resampy-0.4.3\r\n"
     ]
    }
   ],
   "source": [
    "!pip install resampy"
   ]
  },
  {
   "cell_type": "code",
   "execution_count": 3,
   "id": "bc791385",
   "metadata": {
    "execution": {
     "iopub.execute_input": "2025-03-22T06:12:17.758732Z",
     "iopub.status.busy": "2025-03-22T06:12:17.758496Z",
     "iopub.status.idle": "2025-03-22T06:12:17.762310Z",
     "shell.execute_reply": "2025-03-22T06:12:17.761664Z"
    },
    "papermill": {
     "duration": 0.009149,
     "end_time": "2025-03-22T06:12:17.763550",
     "exception": false,
     "start_time": "2025-03-22T06:12:17.754401",
     "status": "completed"
    },
    "tags": []
   },
   "outputs": [],
   "source": [
    "# Dataset Directory\n",
    "data_dir = \"/kaggle/input/random-speech/archive/16000_pcm_speeches\"\n",
    "speakers = ['Benjamin_Netanyau', 'Jens_Stoltenberg', 'Julia_Gillard', 'Magaret_Tarcher', 'Nelson_Mandela',\n",
    "            'FreeCodeCampF', 'Lt_General', 'MKBHD', 'MrWhoseTheBoss', 'Shashi_Tharoor', 'Swami_Vivekanand', 'bro_code']\n",
    "\n",
    "# Background Noise Directory\n",
    "background_noise_dir = os.path.join(data_dir, 'background_noise')"
   ]
  },
  {
   "cell_type": "code",
   "execution_count": 4,
   "id": "bf3cb04b",
   "metadata": {
    "execution": {
     "iopub.execute_input": "2025-03-22T06:12:17.770743Z",
     "iopub.status.busy": "2025-03-22T06:12:17.770536Z",
     "iopub.status.idle": "2025-03-22T06:12:17.777266Z",
     "shell.execute_reply": "2025-03-22T06:12:17.776643Z"
    },
    "papermill": {
     "duration": 0.011591,
     "end_time": "2025-03-22T06:12:17.778437",
     "exception": false,
     "start_time": "2025-03-22T06:12:17.766846",
     "status": "completed"
    },
    "tags": []
   },
   "outputs": [],
   "source": [
    "def extract_mfcc(audio_path, n_mfcc=13):\n",
    "    try:\n",
    "        y, sr = librosa.load(audio_path, res_type='kaiser_fast', sr=16000, duration=1)\n",
    "        mfccs = librosa.feature.mfcc(y=y, sr=sr, n_mfcc=n_mfcc)\n",
    "        # Return the full 2D array instead of mean\n",
    "        return mfccs\n",
    "    except Exception as e:\n",
    "        print(f\"Error processing {audio_path}: {e}\")\n",
    "        return None\n",
    "\n",
    "def extract_mel_spectrogram(audio_path, n_mels=128):\n",
    "    try:\n",
    "        y, sr = librosa.load(audio_path, res_type='kaiser_fast', sr=16000, duration=1)\n",
    "        mel_spectrogram = librosa.feature.melspectrogram(y=y, sr=sr, n_mels=n_mels)\n",
    "        log_mel_spectrogram = librosa.power_to_db(mel_spectrogram, ref=np.max)\n",
    "        # Return the full 2D array instead of mean\n",
    "        return log_mel_spectrogram\n",
    "    except Exception as e:\n",
    "        print(f\"Error processing {audio_path}: {e}\")\n",
    "        return None\n",
    "\n",
    "def extract_lpc(audio_path, order=12):\n",
    "    try:\n",
    "        y, sr = librosa.load(audio_path, res_type='kaiser_fast', sr=16000, duration=1)\n",
    "        lpc_coeffs = librosa.lpc(y, order=order)\n",
    "        if len(lpc_coeffs) < order + 1:\n",
    "            lpc_coeffs = np.pad(lpc_coeffs, (0, order + 1 - len(lpc_coeffs)), 'constant')\n",
    "\n",
    "        lpc_coeffs = lpc_coeffs[1:]  # Remove the first coefficient\n",
    "        return lpc_coeffs.reshape(-1, 1)  # Reshape to 2D array for consistency\n",
    "    except Exception as e:\n",
    "        print(f\"Error processing {audio_path}: {e}\")\n",
    "        return None"
   ]
  },
  {
   "cell_type": "code",
   "execution_count": 5,
   "id": "6f8cb60c",
   "metadata": {
    "execution": {
     "iopub.execute_input": "2025-03-22T06:12:17.785404Z",
     "iopub.status.busy": "2025-03-22T06:12:17.785204Z",
     "iopub.status.idle": "2025-03-22T06:12:17.790998Z",
     "shell.execute_reply": "2025-03-22T06:12:17.790339Z"
    },
    "papermill": {
     "duration": 0.010739,
     "end_time": "2025-03-22T06:12:17.792296",
     "exception": false,
     "start_time": "2025-03-22T06:12:17.781557",
     "status": "completed"
    },
    "tags": []
   },
   "outputs": [],
   "source": [
    "def augment_with_noise(features, background_noise_dir, noise_factor):\n",
    "    noise_files = [f for f in os.listdir(background_noise_dir) if f.endswith('.wav')]\n",
    "    if not noise_files:\n",
    "        print(\"Warning: No background noise files found.\")\n",
    "        return features  # Return original features if no noise files\n",
    "\n",
    "    try:\n",
    "        noise_file = np.random.choice(noise_files)\n",
    "        noise_path = os.path.join(background_noise_dir, noise_file)\n",
    "        noise, sr = librosa.load(noise_path, sr=16000, duration=1)\n",
    "\n",
    "        # Ensure features and noise are compatible for addition\n",
    "        # For 2D features (MFCC, mel spectrogram), we'll augment each time frame\n",
    "        if len(features.shape) == 2:\n",
    "            # Reshape noise to be compatible with features\n",
    "            noise_reshaped = np.zeros_like(features)\n",
    "            for i in range(features.shape[0]):\n",
    "                # Use samples of noise for each feature row (if enough samples)\n",
    "                if i < len(noise):\n",
    "                    noise_reshaped[i, :] = noise[i] if i < len(noise) else 0\n",
    "\n",
    "            augmented_features = features + noise_factor * noise_reshaped\n",
    "        # For 1D features (LPC)\n",
    "        else:\n",
    "            # Ensure noise is the same length as features\n",
    "            if len(noise) < len(features):\n",
    "                noise = np.pad(noise, (0, len(features) - len(noise)), mode='wrap')\n",
    "            elif len(noise) > len(features):\n",
    "                noise = noise[:len(features)]\n",
    "\n",
    "            augmented_features = features + noise_factor * noise\n",
    "        return augmented_features\n",
    "    except Exception as e:\n",
    "        print(f\"Error Augmenting Data: {e}\")\n",
    "        return features  # Return original features on error"
   ]
  },
  {
   "cell_type": "code",
   "execution_count": 6,
   "id": "22b08b79",
   "metadata": {
    "execution": {
     "iopub.execute_input": "2025-03-22T06:12:17.799393Z",
     "iopub.status.busy": "2025-03-22T06:12:17.799177Z",
     "iopub.status.idle": "2025-03-22T06:12:17.805639Z",
     "shell.execute_reply": "2025-03-22T06:12:17.804889Z"
    },
    "papermill": {
     "duration": 0.011406,
     "end_time": "2025-03-22T06:12:17.806877",
     "exception": false,
     "start_time": "2025-03-22T06:12:17.795471",
     "status": "completed"
    },
    "tags": []
   },
   "outputs": [],
   "source": [
    "# Data Loading\n",
    "def load_data(data_dir, speakers, feature_type='mfcc', use_background_noise=False, noise_factor=0.1):\n",
    "    features = []\n",
    "    labels = []\n",
    "\n",
    "    for speaker_idx, speaker in enumerate(speakers):\n",
    "        speaker_dir = os.path.join(data_dir, speaker)\n",
    "        if not os.path.exists(speaker_dir):\n",
    "            print(f\"Warning: Directory {speaker_dir} does not exist.\")\n",
    "            continue\n",
    "\n",
    "        audio_files = [f for f in os.listdir(speaker_dir) if f.endswith('.wav')]\n",
    "        for audio_file in audio_files:\n",
    "            audio_path = os.path.join(speaker_dir, audio_file)\n",
    "\n",
    "            if feature_type == 'mfcc':\n",
    "                extracted_features = extract_mfcc(audio_path)\n",
    "            elif feature_type == 'mel':\n",
    "                extracted_features = extract_mel_spectrogram(audio_path)\n",
    "            elif feature_type == 'lpc':\n",
    "                extracted_features = extract_lpc(audio_path)\n",
    "            else:\n",
    "                raise ValueError(\"Invalid feature_type. Choose 'mfcc', 'mel', or 'lpc'.\")\n",
    "\n",
    "            if extracted_features is not None:\n",
    "                if use_background_noise and os.path.exists(background_noise_dir):\n",
    "                    augmented_features = augment_with_noise(extracted_features, background_noise_dir, noise_factor)\n",
    "                    features.append(augmented_features)\n",
    "                    labels.append(speaker_idx)\n",
    "                else:\n",
    "                    features.append(extracted_features)\n",
    "                    labels.append(speaker_idx)\n",
    "\n",
    "    # Print some debug info about the features\n",
    "    if features:\n",
    "        print(f\"Feature type: {feature_type}\")\n",
    "        print(f\"Number of samples: {len(features)}\")\n",
    "        print(f\"Sample feature shape: {features[0].shape}\")\n",
    "    else:\n",
    "        print(f\"No features extracted for {feature_type}\")\n",
    "\n",
    "    return features, labels"
   ]
  },
  {
   "cell_type": "code",
   "execution_count": 7,
   "id": "7d0f2d58",
   "metadata": {
    "execution": {
     "iopub.execute_input": "2025-03-22T06:12:17.813764Z",
     "iopub.status.busy": "2025-03-22T06:12:17.813563Z",
     "iopub.status.idle": "2025-03-22T06:12:17.826443Z",
     "shell.execute_reply": "2025-03-22T06:12:17.825845Z"
    },
    "papermill": {
     "duration": 0.017592,
     "end_time": "2025-03-22T06:12:17.827603",
     "exception": false,
     "start_time": "2025-03-22T06:12:17.810011",
     "status": "completed"
    },
    "tags": []
   },
   "outputs": [],
   "source": [
    "# CNN Model Training Function\n",
    "def prepare_data_and_train_cnn(X_train, y_train, X_val, y_val, X_test, y_test, feature_type, speakers, label_encoder):\n",
    "    num_classes = len(speakers)\n",
    "\n",
    "    # Check if data is empty\n",
    "    if len(X_train) == 0 or len(X_val) == 0 or len(X_test) == 0:\n",
    "        print(\"Error: One or more data sets are empty\")\n",
    "        return None, None, None, None\n",
    "\n",
    "    # Print some debug info\n",
    "    print(f\"X_train length: {len(X_train)}\")\n",
    "    if len(X_train) > 0:\n",
    "        print(f\"X_train[0] shape: {X_train[0].shape}\")\n",
    "\n",
    "    # Handle LPC features differently than MFCC and Mel features\n",
    "    if feature_type == 'lpc':\n",
    "        # For LPC features, reshape for Dense layers\n",
    "        X_train = np.array([x.flatten() for x in X_train])\n",
    "        X_val = np.array([x.flatten() for x in X_val])\n",
    "        X_test = np.array([x.flatten() for x in X_test])\n",
    "\n",
    "        # Create simple dense model for LPC\n",
    "        model = Sequential()\n",
    "        model.add(Dense(128, activation='relu', input_shape=(X_train.shape[1],)))\n",
    "        model.add(Dropout(0.5))\n",
    "        model.add(Dense(64, activation='relu'))\n",
    "        model.add(Dropout(0.5))\n",
    "        model.add(Dense(num_classes, activation='softmax'))\n",
    "    else:\n",
    "        # For MFCC and Mel features, we need to ensure uniform dimensions\n",
    "        # Find the maximum length in each dimension\n",
    "        max_freq_bins = max([x.shape[0] for x in X_train + X_val + X_test])\n",
    "        max_time_frames = max([x.shape[1] for x in X_train + X_val + X_test])\n",
    "\n",
    "        # Pad all features to have the same dimensions\n",
    "        X_train_padded = np.zeros((len(X_train), max_freq_bins, max_time_frames))\n",
    "        X_val_padded = np.zeros((len(X_val), max_freq_bins, max_time_frames))\n",
    "        X_test_padded = np.zeros((len(X_test), max_freq_bins, max_time_frames))\n",
    "\n",
    "        # Fill in the data\n",
    "        for i, x in enumerate(X_train):\n",
    "            X_train_padded[i, :x.shape[0], :x.shape[1]] = x\n",
    "        for i, x in enumerate(X_val):\n",
    "            X_val_padded[i, :x.shape[0], :x.shape[1]] = x\n",
    "        for i, x in enumerate(X_test):\n",
    "            X_test_padded[i, :x.shape[0], :x.shape[1]] = x\n",
    "\n",
    "        # Update our variables\n",
    "        X_train = X_train_padded\n",
    "        X_val = X_val_padded\n",
    "        X_test = X_test_padded\n",
    "\n",
    "        # Reshape for Conv2D (samples, height, width, channels)\n",
    "        X_train = X_train.reshape(X_train.shape[0], X_train.shape[1], X_train.shape[2], 1)\n",
    "        X_val = X_val.reshape(X_val.shape[0], X_val.shape[1], X_val.shape[2], 1)\n",
    "        X_test = X_test.reshape(X_test.shape[0], X_test.shape[1], X_test.shape[2], 1)\n",
    "\n",
    "        # CNN model for MFCC and Mel\n",
    "        model = Sequential()\n",
    "        model.add(Conv2D(32, (3, 3), activation='relu', input_shape=(X_train.shape[1], X_train.shape[2], 1)))\n",
    "        model.add(MaxPooling2D((2, 2)))\n",
    "        model.add(Conv2D(64, (3, 3), activation='relu'))\n",
    "        model.add(MaxPooling2D((2, 2)))\n",
    "        model.add(Flatten())\n",
    "        model.add(Dense(128, activation='relu'))\n",
    "        model.add(Dropout(0.5))\n",
    "        model.add(Dense(num_classes, activation='softmax'))\n",
    "\n",
    "    # Compile the model\n",
    "    model.compile(optimizer='adam', loss='sparse_categorical_crossentropy', metrics=['accuracy'])\n",
    "    print(\"CNN Model Summary:\")\n",
    "    model.summary()  # This will print the summary\n",
    "\n",
    "    # Early stopping to prevent overfitting\n",
    "    early_stopping = EarlyStopping(monitor='val_loss', patience=3, restore_best_weights=True)\n",
    "\n",
    "    # Train the model\n",
    "    history = model.fit(X_train, y_train, epochs=50, batch_size=32,\n",
    "                        validation_data=(X_val, y_val), callbacks=[early_stopping])\n",
    "\n",
    "    # Evaluate the model\n",
    "    loss, accuracy = model.evaluate(X_test, y_test, verbose=0)\n",
    "    print(f\"CNN Test Loss: {loss:.4f}\")\n",
    "    print(f\"CNN Test Accuracy: {accuracy:.4f}\")\n",
    "\n",
    "    return history, model, X_test, y_test"
   ]
  },
  {
   "cell_type": "code",
   "execution_count": 8,
   "id": "1a2820f6",
   "metadata": {
    "execution": {
     "iopub.execute_input": "2025-03-22T06:12:17.834922Z",
     "iopub.status.busy": "2025-03-22T06:12:17.834694Z",
     "iopub.status.idle": "2025-03-22T06:12:17.843925Z",
     "shell.execute_reply": "2025-03-22T06:12:17.843131Z"
    },
    "papermill": {
     "duration": 0.014049,
     "end_time": "2025-03-22T06:12:17.845016",
     "exception": false,
     "start_time": "2025-03-22T06:12:17.830967",
     "status": "completed"
    },
    "tags": []
   },
   "outputs": [],
   "source": [
    "# LSTM Model Training Function\n",
    "def prepare_data_and_train_lstm(X_train, y_train, X_val, y_val, X_test, y_test, feature_type, speakers, label_encoder, lstm_units=128, dropout_rate=0.5):\n",
    "    \"\"\"\n",
    "    Prepares data for LSTM training, builds, and trains the LSTM model.\n",
    "    \"\"\"\n",
    "    num_classes = len(speakers)\n",
    "\n",
    "    # Check if data is empty\n",
    "    if len(X_train) == 0 or len(X_val) == 0 or len(X_test) == 0:\n",
    "        print(\"Error: One or more data sets are empty\")\n",
    "        return None, None, None, None\n",
    "\n",
    "    # For LPC features, reshape appropriately for LSTM\n",
    "    if feature_type == 'lpc':\n",
    "        # LPC features are already time series, just ensure correct shape\n",
    "        X_train = np.array(X_train)\n",
    "        X_val = np.array(X_val)\n",
    "        X_test = np.array(X_test)\n",
    "    else:\n",
    "        # For MFCC and Mel, we need to transpose and pad the features\n",
    "        # Here we treat the frequency bins as features and time frames as time steps\n",
    "        max_time_frames = max([x.shape[1] for x in X_train + X_val + X_test])\n",
    "        num_features = X_train[0].shape[0]  # Number of frequency bins\n",
    "\n",
    "        # Pad all features to have the same time dimension\n",
    "        X_train_padded = np.zeros((len(X_train), max_time_frames, num_features))\n",
    "        X_val_padded = np.zeros((len(X_val), max_time_frames, num_features))\n",
    "        X_test_padded = np.zeros((len(X_test), max_time_frames, num_features))\n",
    "\n",
    "        # Fill in the data (transpose to make time the first dimension)\n",
    "        for i, x in enumerate(X_train):\n",
    "            X_train_padded[i, :x.shape[1], :] = x.T\n",
    "        for i, x in enumerate(X_val):\n",
    "            X_val_padded[i, :x.shape[1], :] = x.T\n",
    "        for i, x in enumerate(X_test):\n",
    "            X_test_padded[i, :x.shape[1], :] = x.T\n",
    "\n",
    "        # Update our variables\n",
    "        X_train = X_train_padded\n",
    "        X_val = X_val_padded\n",
    "        X_test = X_test_padded\n",
    "\n",
    "    # Print the shape of prepared data\n",
    "    print(f\"X_train shape for LSTM: {X_train.shape}\")\n",
    "    print(f\"X_val shape for LSTM: {X_val.shape}\")\n",
    "    print(f\"X_test shape for LSTM: {X_test.shape}\")\n",
    "\n",
    "    # Build LSTM model\n",
    "    model = Sequential()\n",
    "    model.add(LSTM(lstm_units, input_shape=(X_train.shape[1], X_train.shape[2]), return_sequences=False))\n",
    "    model.add(Dropout(dropout_rate))\n",
    "    model.add(Dense(64, activation='relu'))\n",
    "    model.add(Dropout(dropout_rate))\n",
    "    model.add(Dense(num_classes, activation='softmax'))\n",
    "\n",
    "    # Compile model\n",
    "    model.compile(optimizer='adam', loss='sparse_categorical_crossentropy', metrics=['accuracy'])\n",
    "    print(\"LSTM Model Summary:\")\n",
    "    model.summary()\n",
    "\n",
    "    # Early stopping\n",
    "    early_stopping = EarlyStopping(monitor='val_loss', patience=3, restore_best_weights=True)\n",
    "\n",
    "    # Train model\n",
    "    history = model.fit(X_train, y_train, epochs=50, batch_size=32,\n",
    "                        validation_data=(X_val, y_val), callbacks=[early_stopping])\n",
    "\n",
    "    if early_stopping.stopped_epoch > 0:\n",
    "        print(\"Early stopping triggered at epoch\", early_stopping.stopped_epoch + 1)\n",
    "    else:\n",
    "        print(\"Training completed without early stopping\")\n",
    "\n",
    "    # Evaluate model\n",
    "    loss, accuracy = model.evaluate(X_test, y_test, verbose=0)\n",
    "    print(f\"Test Loss: {loss:.4f}\")\n",
    "    print(f\"Test Accuracy: {accuracy:.4f}\")\n",
    "\n",
    "    return history, model, X_test, y_test"
   ]
  },
  {
   "cell_type": "code",
   "execution_count": 9,
   "id": "2a6439c8",
   "metadata": {
    "execution": {
     "iopub.execute_input": "2025-03-22T06:12:17.852454Z",
     "iopub.status.busy": "2025-03-22T06:12:17.852205Z",
     "iopub.status.idle": "2025-03-22T06:12:17.875927Z",
     "shell.execute_reply": "2025-03-22T06:12:17.875149Z"
    },
    "papermill": {
     "duration": 0.02882,
     "end_time": "2025-03-22T06:12:17.877122",
     "exception": false,
     "start_time": "2025-03-22T06:12:17.848302",
     "status": "completed"
    },
    "tags": []
   },
   "outputs": [],
   "source": [
    "# Main Training Loop\n",
    "def main():\n",
    "    feature_types = ['mfcc', 'mel', 'lpc']\n",
    "    model_types = ['cnn', 'lstm']\n",
    "    results = {}\n",
    "    use_background_noise = True  # Set to False if background_noise directory doesn't exist\n",
    "    noise_factor = 0.1\n",
    "\n",
    "    # Store resource utilization metrics\n",
    "    resource_utilization = {}\n",
    "\n",
    "    for model_type in model_types:\n",
    "        results[model_type] = {}\n",
    "        resource_utilization[model_type] = {}\n",
    "\n",
    "        for feature_type in feature_types:\n",
    "            print(f\"\\n{'='*50}\")\n",
    "            print(f\"Training {model_type.upper()} with {feature_type.upper()} features...\")\n",
    "            print(f\"{'='*50}\")\n",
    "\n",
    "            # Load and preprocess data\n",
    "            features, labels = load_data(data_dir, speakers, feature_type=feature_type,\n",
    "                                        use_background_noise=use_background_noise,\n",
    "                                        noise_factor=noise_factor)\n",
    "\n",
    "            if features and len(features) > 0:\n",
    "                # Convert to numpy arrays\n",
    "                labels = np.array(labels)\n",
    "\n",
    "                # For scaling, only flatten LPC features, keep MFCC and Mel as 2D\n",
    "                if feature_type == 'lpc':\n",
    "                    features_flat = np.array([x.flatten() for x in features])\n",
    "                    # Scale LPC features\n",
    "                    scaler = StandardScaler()\n",
    "                    features_flat = scaler.fit_transform(features_flat)\n",
    "                    # Reshape back to original shape\n",
    "                    features = [features_flat[i].reshape(features[i].shape) for i in range(len(features))]\n",
    "                # For MFCC and Mel, we scale within each feature separately\n",
    "                else:\n",
    "                    # No flattening needed, keep as is\n",
    "                    pass\n",
    "\n",
    "                # Split data\n",
    "                X_train, X_temp, y_train, y_temp = train_test_split(\n",
    "                    features, labels, test_size=0.3, random_state=42, stratify=labels)\n",
    "                X_val, X_test, y_val, y_test = train_test_split(\n",
    "                    X_temp, y_temp, test_size=0.5, random_state=42, stratify=y_temp)\n",
    "\n",
    "                # Encode labels\n",
    "                label_encoder = LabelEncoder()\n",
    "                label_encoder.fit(labels)\n",
    "                y_train = label_encoder.transform(y_train)\n",
    "                y_val = label_encoder.transform(y_val)\n",
    "                y_test = label_encoder.transform(y_test)\n",
    "\n",
    "                # Start timing\n",
    "                start_time = time.time()\n",
    "\n",
    "                # Train model\n",
    "                if model_type == 'cnn':\n",
    "                    history, model, X_test_processed, y_test_processed = prepare_data_and_train_cnn(\n",
    "                        X_train, y_train, X_val, y_val, X_test, y_test, feature_type, speakers, label_encoder)\n",
    "                elif model_type == 'lstm':\n",
    "                    history, model, X_test_processed, y_test_processed = prepare_data_and_train_lstm(\n",
    "                        X_train, y_train, X_val, y_val, X_test, y_test, feature_type, speakers, label_encoder)\n",
    "\n",
    "                # End timing\n",
    "                end_time = time.time()\n",
    "\n",
    "                # Check if model training was successful\n",
    "                if history is not None and model is not None:\n",
    "\n",
    "                    # Calculate metrics\n",
    "                    num_test_samples = len(X_test)\n",
    "                    training_time = end_time - start_time\n",
    "                    inference_time = training_time / num_test_samples * 1000  # in milliseconds\n",
    "\n",
    "                    # Model size (we don't save the model now, so model_size will be 0, or we can skip this)\n",
    "                    model_size = 0 # Model size is 0 as we are not saving the model\n",
    "                    num_params = model.count_params() / 1e6  # in millions\n",
    "\n",
    "                    # Store results and metrics\n",
    "                    resource_utilization[model_type][feature_type] = {\n",
    "                        'model_size': model_size,\n",
    "                        'num_params': num_params,\n",
    "                        'inference_time': inference_time,\n",
    "                        'training_time': training_time\n",
    "                    }\n",
    "\n",
    "                    results[model_type][feature_type] = {\n",
    "                        'history': history,\n",
    "                        'model': model,\n",
    "                        'X_test': X_test_processed,\n",
    "                        'y_test': y_test_processed,\n",
    "                        'label_encoder': label_encoder,\n",
    "                    }\n",
    "\n",
    "                    print(f\"Completed training {model_type.upper()} with {feature_type.upper()} features\")\n",
    "                    print(f\"Training time: {training_time:.2f} seconds\")\n",
    "                    print(f\"Model size: {model_size:.2f} MB (Not saved)\") # Indicate model is not saved\n",
    "                    print(f\"Number of parameters: {num_params:.2f} million\")\n",
    "                else:\n",
    "                    print(f\"Failed to train {model_type.upper()} with {feature_type.upper()} features\")\n",
    "            else:\n",
    "                print(f\"No data loaded for {feature_type}. Skipping training.\")\n",
    "\n",
    "    # Visualization: Accuracy Comparison Chart\n",
    "    feature_names = ['MFCC', 'Mel Spectrogram', 'LPC']\n",
    "    plt.figure(figsize=(12, 6))\n",
    "\n",
    "    # Check if we have results to plot\n",
    "    has_cnn_results = all(feature in results.get('cnn', {}) and 'history' in results['cnn'][feature]\n",
    "                          for feature in ['mfcc', 'mel', 'lpc'])\n",
    "    has_lstm_results = all(feature in results.get('lstm', {}) and 'history' in results['lstm'][feature]\n",
    "                           for feature in ['mfcc', 'mel', 'lpc'])\n",
    "\n",
    "    if has_cnn_results and has_lstm_results:\n",
    "        cnn_accuracies = [results['cnn'][feature]['history'].history['val_accuracy'][-1]\n",
    "                          for feature in ['mfcc', 'mel', 'lpc']]\n",
    "        lstm_accuracies = [results['lstm'][feature]['history'].history['val_accuracy'][-1]\n",
    "                           for feature in ['mfcc', 'mel', 'lpc']]\n",
    "\n",
    "        x = np.arange(len(feature_names))\n",
    "        width = 0.35\n",
    "\n",
    "        fig, ax = plt.subplots(figsize=(10, 6))\n",
    "        rects1 = ax.bar(x - width/2, cnn_accuracies, width, label='CNN', color='skyblue')\n",
    "        rects2 = ax.bar(x + width/2, lstm_accuracies, width, label='LSTM', color='salmon')\n",
    "\n",
    "        # Add labels, title, etc.\n",
    "        ax.set_ylabel('Validation Accuracy (%)')\n",
    "        ax.set_xlabel('Feature Extraction Method')\n",
    "        ax.set_title('Accuracy Comparison between Feature Extraction Methods and Models')\n",
    "        ax.set_xticks(x)\n",
    "        ax.set_xticklabels(feature_names)\n",
    "        ax.legend()\n",
    "\n",
    "        # Add value labels on bars\n",
    "        def autolabel(rects):\n",
    "            for rect in rects:\n",
    "                height = rect.get_height()\n",
    "                ax.annotate(f'{height:.2f}',\n",
    "                            xy=(rect.get_x() + rect.get_width() / 2, height),\n",
    "                            xytext=(0, 3),  # 3 points vertical offset\n",
    "                            textcoords=\"offset points\",\n",
    "                            ha='center', va='bottom')\n",
    "\n",
    "        autolabel(rects1)\n",
    "        autolabel(rects2)\n",
    "\n",
    "        fig.tight_layout()\n",
    "        plt.ylim(0, 1)\n",
    "        plt.show()\n",
    "    else:\n",
    "        print(\"Not enough data to create accuracy comparison chart\")\n",
    "\n",
    "    # Visualization: Confusion Matrix for best model\n",
    "    # Select best model based on validation accuracy\n",
    "    best_model_type = None\n",
    "    best_feature_type = None\n",
    "    best_accuracy = -1\n",
    "\n",
    "    for model_type in model_types:\n",
    "        for feature_type in feature_types:\n",
    "            if (feature_type in results.get(model_type, {}) and\n",
    "                'history' in results[model_type][feature_type]):\n",
    "                accuracy = results[model_type][feature_type]['history'].history['val_accuracy'][-1]\n",
    "                if accuracy > best_accuracy:\n",
    "                    best_accuracy = accuracy\n",
    "                    best_model_type = model_type\n",
    "                    best_feature_type = feature_type\n",
    "\n",
    "    if best_model_type and best_feature_type:\n",
    "        print(f\"\\nBest model: {best_model_type.upper()} with {best_feature_type.upper()} features\")\n",
    "        print(f\"Validation accuracy: {best_accuracy:.4f}\")\n",
    "\n",
    "        model = results[best_model_type][best_feature_type]['model']\n",
    "        X_test = results[best_model_type][best_feature_type]['X_test']\n",
    "        y_test = results[best_model_type][best_feature_type]['y_test']\n",
    "        label_encoder = results[best_model_type][best_feature_type]['label_encoder']\n",
    "\n",
    "        y_pred_probabilities = model.predict(X_test)\n",
    "        y_pred = np.argmax(y_pred_probabilities, axis=1)\n",
    "\n",
    "        y_test_decoded = label_encoder.inverse_transform(y_test)\n",
    "        y_pred_decoded = label_encoder.inverse_transform(y_pred)\n",
    "\n",
    "        unique_labels = label_encoder.classes_\n",
    "        conf_matrix = confusion_matrix(y_test_decoded, y_pred_decoded, labels=unique_labels)\n",
    "        conf_matrix_normalized = conf_matrix.astype('float') / conf_matrix.sum(axis=1)[:, np.newaxis]\n",
    "\n",
    "        plt.figure(figsize=(12, 10))\n",
    "        sns.heatmap(conf_matrix_normalized, annot=True, fmt=\".2f\", cmap=\"Blues\",\n",
    "                   xticklabels=unique_labels, yticklabels=unique_labels)\n",
    "\n",
    "        plt.xticks(rotation=45, ha=\"right\")\n",
    "        plt.title(f\"Confusion Matrix for Best Model ({best_model_type.upper()} with {best_feature_type.upper()})\")\n",
    "        plt.xlabel(\"Predicted Label\")\n",
    "        plt.ylabel(\"True Label\")\n",
    "        plt.tight_layout()\n",
    "        plt.show()\n",
    "    else:\n",
    "        print(\"No valid models found to generate the confusion matrix.\")\n",
    "\n",
    "    # Visualization: Resource Utilization Comparison\n",
    "    model_types_used = [mt for mt in model_types if mt in resource_utilization]\n",
    "\n",
    "    if model_types_used and all(ft in resource_utilization[model_types_used[0]] for ft in feature_types):\n",
    "        # Extract metrics\n",
    "        model_sizes = {}\n",
    "        num_params = {}\n",
    "        inference_times = {}\n",
    "\n",
    "        for model_type in model_types_used:\n",
    "            model_sizes[model_type] = [\n",
    "                resource_utilization[model_type].get(feature, {}).get('model_size', 0)\n",
    "                for feature in feature_types\n",
    "            ]\n",
    "            num_params[model_type] = [\n",
    "                resource_utilization[model_type].get(feature, {}).get('num_params', 0)\n",
    "                for feature in feature_types\n",
    "            ]\n",
    "            inference_times[model_type] = [\n",
    "                resource_utilization[model_type].get(feature, {}).get('inference_time', 0)\n",
    "                for feature in feature_types\n",
    "            ]\n",
    "\n",
    "        x = np.arange(len(feature_types))\n",
    "        width = 0.2\n",
    "\n",
    "        fig, axes = plt.subplots(3, 1, figsize=(12, 18))\n",
    "\n",
    "        # Model Size Comparison\n",
    "        axes[0].bar(x - width, model_sizes[model_types_used[0]], width=width,\n",
    "                   label=f'{model_types_used[0].upper()}', color='skyblue')\n",
    "        if len(model_types_used) > 1:\n",
    "            axes[0].bar(x, model_sizes[model_types_used[1]], width=width,\n",
    "                       label=f'{model_types_used[1].upper()}', color='salmon')\n",
    "\n",
    "        axes[0].set_xticks(x)\n",
    "        axes[0].set_xticklabels(feature_types)\n",
    "        axes[0].set_ylabel('Model Size (MB)')\n",
    "        axes[0].set_title('Model Size Comparison')\n",
    "        axes[0].legend()\n",
    "\n",
    "        # Number of Parameters Comparison\n",
    "        axes[1].bar(x - width, num_params[model_types_used[0]], width=width,\n",
    "                   label=f'{model_types_used[0].upper()}', color='skyblue')\n",
    "        if len(model_types_used) > 1:\n",
    "            axes[1].bar(x, num_params[model_types_used[1]], width=width,\n",
    "                       label=f'{model_types_used[1].upper()}', color='salmon')\n",
    "\n",
    "        axes[1].set_xticks(x)\n",
    "        axes[1].set_xticklabels(feature_types)\n",
    "        axes[1].set_ylabel('Number of Parameters (Millions)')\n",
    "        axes[1].set_title('Number of Parameters Comparison')\n",
    "        axes[1].legend()\n",
    "\n",
    "        # Inference Time Comparison\n",
    "        axes[2].bar(x - width, inference_times[model_types_used[0]], width=width,\n",
    "                   label=f'{model_types_used[0].upper()}', color='skyblue')\n",
    "        if len(model_types_used) > 1:\n",
    "            axes[2].bar(x, inference_times[model_types_used[1]], width=width,\n",
    "                       label=f'{model_types_used[1].upper()}', color='salmon')\n",
    "\n",
    "        axes[2].set_xticks(x)\n",
    "        axes[2].set_xticklabels(feature_types)\n",
    "        axes[2].set_ylabel('Inference Time (ms)')\n",
    "        axes[2].set_title('Inference Time Comparison')\n",
    "        axes[2].legend()\n",
    "\n",
    "        plt.tight_layout()\n",
    "        plt.show()\n",
    "    else:\n",
    "        print(\"Not enough data to create resource utilization comparison charts\")"
   ]
  },
  {
   "cell_type": "code",
   "execution_count": 10,
   "id": "3ff15a63",
   "metadata": {
    "execution": {
     "iopub.execute_input": "2025-03-22T06:12:17.884455Z",
     "iopub.status.busy": "2025-03-22T06:12:17.884235Z",
     "iopub.status.idle": "2025-03-22T06:39:47.559705Z",
     "shell.execute_reply": "2025-03-22T06:39:47.558812Z"
    },
    "papermill": {
     "duration": 1649.680844,
     "end_time": "2025-03-22T06:39:47.561207",
     "exception": false,
     "start_time": "2025-03-22T06:12:17.880363",
     "status": "completed"
    },
    "tags": []
   },
   "outputs": [
    {
     "name": "stdout",
     "output_type": "stream",
     "text": [
      "\n",
      "==================================================\n",
      "Training CNN with MFCC features...\n",
      "==================================================\n",
      "Feature type: mfcc\n",
      "Number of samples: 18001\n",
      "Sample feature shape: (13, 32)\n",
      "X_train length: 12600\n",
      "X_train[0] shape: (13, 32)\n",
      "CNN Model Summary:\n"
     ]
    },
    {
     "data": {
      "text/html": [
       "<pre style=\"white-space:pre;overflow-x:auto;line-height:normal;font-family:Menlo,'DejaVu Sans Mono',consolas,'Courier New',monospace\"><span style=\"font-weight: bold\">Model: \"sequential\"</span>\n",
       "</pre>\n"
      ],
      "text/plain": [
       "\u001b[1mModel: \"sequential\"\u001b[0m\n"
      ]
     },
     "metadata": {},
     "output_type": "display_data"
    },
    {
     "data": {
      "text/html": [
       "<pre style=\"white-space:pre;overflow-x:auto;line-height:normal;font-family:Menlo,'DejaVu Sans Mono',consolas,'Courier New',monospace\">┏━━━━━━━━━━━━━━━━━━━━━━━━━━━━━━━━━━━━━━┳━━━━━━━━━━━━━━━━━━━━━━━━━━━━━┳━━━━━━━━━━━━━━━━━┓\n",
       "┃<span style=\"font-weight: bold\"> Layer (type)                         </span>┃<span style=\"font-weight: bold\"> Output Shape                </span>┃<span style=\"font-weight: bold\">         Param # </span>┃\n",
       "┡━━━━━━━━━━━━━━━━━━━━━━━━━━━━━━━━━━━━━━╇━━━━━━━━━━━━━━━━━━━━━━━━━━━━━╇━━━━━━━━━━━━━━━━━┩\n",
       "│ conv2d (<span style=\"color: #0087ff; text-decoration-color: #0087ff\">Conv2D</span>)                      │ (<span style=\"color: #00d7ff; text-decoration-color: #00d7ff\">None</span>, <span style=\"color: #00af00; text-decoration-color: #00af00\">11</span>, <span style=\"color: #00af00; text-decoration-color: #00af00\">30</span>, <span style=\"color: #00af00; text-decoration-color: #00af00\">32</span>)          │             <span style=\"color: #00af00; text-decoration-color: #00af00\">320</span> │\n",
       "├──────────────────────────────────────┼─────────────────────────────┼─────────────────┤\n",
       "│ max_pooling2d (<span style=\"color: #0087ff; text-decoration-color: #0087ff\">MaxPooling2D</span>)         │ (<span style=\"color: #00d7ff; text-decoration-color: #00d7ff\">None</span>, <span style=\"color: #00af00; text-decoration-color: #00af00\">5</span>, <span style=\"color: #00af00; text-decoration-color: #00af00\">15</span>, <span style=\"color: #00af00; text-decoration-color: #00af00\">32</span>)           │               <span style=\"color: #00af00; text-decoration-color: #00af00\">0</span> │\n",
       "├──────────────────────────────────────┼─────────────────────────────┼─────────────────┤\n",
       "│ conv2d_1 (<span style=\"color: #0087ff; text-decoration-color: #0087ff\">Conv2D</span>)                    │ (<span style=\"color: #00d7ff; text-decoration-color: #00d7ff\">None</span>, <span style=\"color: #00af00; text-decoration-color: #00af00\">3</span>, <span style=\"color: #00af00; text-decoration-color: #00af00\">13</span>, <span style=\"color: #00af00; text-decoration-color: #00af00\">64</span>)           │          <span style=\"color: #00af00; text-decoration-color: #00af00\">18,496</span> │\n",
       "├──────────────────────────────────────┼─────────────────────────────┼─────────────────┤\n",
       "│ max_pooling2d_1 (<span style=\"color: #0087ff; text-decoration-color: #0087ff\">MaxPooling2D</span>)       │ (<span style=\"color: #00d7ff; text-decoration-color: #00d7ff\">None</span>, <span style=\"color: #00af00; text-decoration-color: #00af00\">1</span>, <span style=\"color: #00af00; text-decoration-color: #00af00\">6</span>, <span style=\"color: #00af00; text-decoration-color: #00af00\">64</span>)            │               <span style=\"color: #00af00; text-decoration-color: #00af00\">0</span> │\n",
       "├──────────────────────────────────────┼─────────────────────────────┼─────────────────┤\n",
       "│ flatten (<span style=\"color: #0087ff; text-decoration-color: #0087ff\">Flatten</span>)                    │ (<span style=\"color: #00d7ff; text-decoration-color: #00d7ff\">None</span>, <span style=\"color: #00af00; text-decoration-color: #00af00\">384</span>)                 │               <span style=\"color: #00af00; text-decoration-color: #00af00\">0</span> │\n",
       "├──────────────────────────────────────┼─────────────────────────────┼─────────────────┤\n",
       "│ dense (<span style=\"color: #0087ff; text-decoration-color: #0087ff\">Dense</span>)                        │ (<span style=\"color: #00d7ff; text-decoration-color: #00d7ff\">None</span>, <span style=\"color: #00af00; text-decoration-color: #00af00\">128</span>)                 │          <span style=\"color: #00af00; text-decoration-color: #00af00\">49,280</span> │\n",
       "├──────────────────────────────────────┼─────────────────────────────┼─────────────────┤\n",
       "│ dropout (<span style=\"color: #0087ff; text-decoration-color: #0087ff\">Dropout</span>)                    │ (<span style=\"color: #00d7ff; text-decoration-color: #00d7ff\">None</span>, <span style=\"color: #00af00; text-decoration-color: #00af00\">128</span>)                 │               <span style=\"color: #00af00; text-decoration-color: #00af00\">0</span> │\n",
       "├──────────────────────────────────────┼─────────────────────────────┼─────────────────┤\n",
       "│ dense_1 (<span style=\"color: #0087ff; text-decoration-color: #0087ff\">Dense</span>)                      │ (<span style=\"color: #00d7ff; text-decoration-color: #00d7ff\">None</span>, <span style=\"color: #00af00; text-decoration-color: #00af00\">12</span>)                  │           <span style=\"color: #00af00; text-decoration-color: #00af00\">1,548</span> │\n",
       "└──────────────────────────────────────┴─────────────────────────────┴─────────────────┘\n",
       "</pre>\n"
      ],
      "text/plain": [
       "┏━━━━━━━━━━━━━━━━━━━━━━━━━━━━━━━━━━━━━━┳━━━━━━━━━━━━━━━━━━━━━━━━━━━━━┳━━━━━━━━━━━━━━━━━┓\n",
       "┃\u001b[1m \u001b[0m\u001b[1mLayer (type)                        \u001b[0m\u001b[1m \u001b[0m┃\u001b[1m \u001b[0m\u001b[1mOutput Shape               \u001b[0m\u001b[1m \u001b[0m┃\u001b[1m \u001b[0m\u001b[1m        Param #\u001b[0m\u001b[1m \u001b[0m┃\n",
       "┡━━━━━━━━━━━━━━━━━━━━━━━━━━━━━━━━━━━━━━╇━━━━━━━━━━━━━━━━━━━━━━━━━━━━━╇━━━━━━━━━━━━━━━━━┩\n",
       "│ conv2d (\u001b[38;5;33mConv2D\u001b[0m)                      │ (\u001b[38;5;45mNone\u001b[0m, \u001b[38;5;34m11\u001b[0m, \u001b[38;5;34m30\u001b[0m, \u001b[38;5;34m32\u001b[0m)          │             \u001b[38;5;34m320\u001b[0m │\n",
       "├──────────────────────────────────────┼─────────────────────────────┼─────────────────┤\n",
       "│ max_pooling2d (\u001b[38;5;33mMaxPooling2D\u001b[0m)         │ (\u001b[38;5;45mNone\u001b[0m, \u001b[38;5;34m5\u001b[0m, \u001b[38;5;34m15\u001b[0m, \u001b[38;5;34m32\u001b[0m)           │               \u001b[38;5;34m0\u001b[0m │\n",
       "├──────────────────────────────────────┼─────────────────────────────┼─────────────────┤\n",
       "│ conv2d_1 (\u001b[38;5;33mConv2D\u001b[0m)                    │ (\u001b[38;5;45mNone\u001b[0m, \u001b[38;5;34m3\u001b[0m, \u001b[38;5;34m13\u001b[0m, \u001b[38;5;34m64\u001b[0m)           │          \u001b[38;5;34m18,496\u001b[0m │\n",
       "├──────────────────────────────────────┼─────────────────────────────┼─────────────────┤\n",
       "│ max_pooling2d_1 (\u001b[38;5;33mMaxPooling2D\u001b[0m)       │ (\u001b[38;5;45mNone\u001b[0m, \u001b[38;5;34m1\u001b[0m, \u001b[38;5;34m6\u001b[0m, \u001b[38;5;34m64\u001b[0m)            │               \u001b[38;5;34m0\u001b[0m │\n",
       "├──────────────────────────────────────┼─────────────────────────────┼─────────────────┤\n",
       "│ flatten (\u001b[38;5;33mFlatten\u001b[0m)                    │ (\u001b[38;5;45mNone\u001b[0m, \u001b[38;5;34m384\u001b[0m)                 │               \u001b[38;5;34m0\u001b[0m │\n",
       "├──────────────────────────────────────┼─────────────────────────────┼─────────────────┤\n",
       "│ dense (\u001b[38;5;33mDense\u001b[0m)                        │ (\u001b[38;5;45mNone\u001b[0m, \u001b[38;5;34m128\u001b[0m)                 │          \u001b[38;5;34m49,280\u001b[0m │\n",
       "├──────────────────────────────────────┼─────────────────────────────┼─────────────────┤\n",
       "│ dropout (\u001b[38;5;33mDropout\u001b[0m)                    │ (\u001b[38;5;45mNone\u001b[0m, \u001b[38;5;34m128\u001b[0m)                 │               \u001b[38;5;34m0\u001b[0m │\n",
       "├──────────────────────────────────────┼─────────────────────────────┼─────────────────┤\n",
       "│ dense_1 (\u001b[38;5;33mDense\u001b[0m)                      │ (\u001b[38;5;45mNone\u001b[0m, \u001b[38;5;34m12\u001b[0m)                  │           \u001b[38;5;34m1,548\u001b[0m │\n",
       "└──────────────────────────────────────┴─────────────────────────────┴─────────────────┘\n"
      ]
     },
     "metadata": {},
     "output_type": "display_data"
    },
    {
     "data": {
      "text/html": [
       "<pre style=\"white-space:pre;overflow-x:auto;line-height:normal;font-family:Menlo,'DejaVu Sans Mono',consolas,'Courier New',monospace\"><span style=\"font-weight: bold\"> Total params: </span><span style=\"color: #00af00; text-decoration-color: #00af00\">69,644</span> (272.05 KB)\n",
       "</pre>\n"
      ],
      "text/plain": [
       "\u001b[1m Total params: \u001b[0m\u001b[38;5;34m69,644\u001b[0m (272.05 KB)\n"
      ]
     },
     "metadata": {},
     "output_type": "display_data"
    },
    {
     "data": {
      "text/html": [
       "<pre style=\"white-space:pre;overflow-x:auto;line-height:normal;font-family:Menlo,'DejaVu Sans Mono',consolas,'Courier New',monospace\"><span style=\"font-weight: bold\"> Trainable params: </span><span style=\"color: #00af00; text-decoration-color: #00af00\">69,644</span> (272.05 KB)\n",
       "</pre>\n"
      ],
      "text/plain": [
       "\u001b[1m Trainable params: \u001b[0m\u001b[38;5;34m69,644\u001b[0m (272.05 KB)\n"
      ]
     },
     "metadata": {},
     "output_type": "display_data"
    },
    {
     "data": {
      "text/html": [
       "<pre style=\"white-space:pre;overflow-x:auto;line-height:normal;font-family:Menlo,'DejaVu Sans Mono',consolas,'Courier New',monospace\"><span style=\"font-weight: bold\"> Non-trainable params: </span><span style=\"color: #00af00; text-decoration-color: #00af00\">0</span> (0.00 B)\n",
       "</pre>\n"
      ],
      "text/plain": [
       "\u001b[1m Non-trainable params: \u001b[0m\u001b[38;5;34m0\u001b[0m (0.00 B)\n"
      ]
     },
     "metadata": {},
     "output_type": "display_data"
    },
    {
     "name": "stdout",
     "output_type": "stream",
     "text": [
      "Epoch 1/50\n",
      "\u001b[1m394/394\u001b[0m \u001b[32m━━━━━━━━━━━━━━━━━━━━\u001b[0m\u001b[37m\u001b[0m \u001b[1m11s\u001b[0m 15ms/step - accuracy: 0.3529 - loss: 3.4098 - val_accuracy: 0.8204 - val_loss: 0.5502\n",
      "Epoch 2/50\n",
      "\u001b[1m394/394\u001b[0m \u001b[32m━━━━━━━━━━━━━━━━━━━━\u001b[0m\u001b[37m\u001b[0m \u001b[1m1s\u001b[0m 2ms/step - accuracy: 0.7679 - loss: 0.6979 - val_accuracy: 0.8848 - val_loss: 0.3535\n",
      "Epoch 3/50\n",
      "\u001b[1m394/394\u001b[0m \u001b[32m━━━━━━━━━━━━━━━━━━━━\u001b[0m\u001b[37m\u001b[0m \u001b[1m1s\u001b[0m 2ms/step - accuracy: 0.8454 - loss: 0.4710 - val_accuracy: 0.9307 - val_loss: 0.2279\n",
      "Epoch 4/50\n",
      "\u001b[1m394/394\u001b[0m \u001b[32m━━━━━━━━━━━━━━━━━━━━\u001b[0m\u001b[37m\u001b[0m \u001b[1m1s\u001b[0m 2ms/step - accuracy: 0.8903 - loss: 0.3421 - val_accuracy: 0.9359 - val_loss: 0.2066\n",
      "Epoch 5/50\n",
      "\u001b[1m394/394\u001b[0m \u001b[32m━━━━━━━━━━━━━━━━━━━━\u001b[0m\u001b[37m\u001b[0m \u001b[1m1s\u001b[0m 2ms/step - accuracy: 0.9097 - loss: 0.2948 - val_accuracy: 0.9337 - val_loss: 0.2179\n",
      "Epoch 6/50\n",
      "\u001b[1m394/394\u001b[0m \u001b[32m━━━━━━━━━━━━━━━━━━━━\u001b[0m\u001b[37m\u001b[0m \u001b[1m1s\u001b[0m 2ms/step - accuracy: 0.9203 - loss: 0.2518 - val_accuracy: 0.9489 - val_loss: 0.1878\n",
      "Epoch 7/50\n",
      "\u001b[1m394/394\u001b[0m \u001b[32m━━━━━━━━━━━━━━━━━━━━\u001b[0m\u001b[37m\u001b[0m \u001b[1m1s\u001b[0m 2ms/step - accuracy: 0.9257 - loss: 0.2370 - val_accuracy: 0.9293 - val_loss: 0.2245\n",
      "Epoch 8/50\n",
      "\u001b[1m394/394\u001b[0m \u001b[32m━━━━━━━━━━━━━━━━━━━━\u001b[0m\u001b[37m\u001b[0m \u001b[1m1s\u001b[0m 2ms/step - accuracy: 0.9189 - loss: 0.2489 - val_accuracy: 0.9348 - val_loss: 0.2305\n",
      "Epoch 9/50\n",
      "\u001b[1m394/394\u001b[0m \u001b[32m━━━━━━━━━━━━━━━━━━━━\u001b[0m\u001b[37m\u001b[0m \u001b[1m1s\u001b[0m 2ms/step - accuracy: 0.9301 - loss: 0.2365 - val_accuracy: 0.9559 - val_loss: 0.1458\n",
      "Epoch 10/50\n",
      "\u001b[1m394/394\u001b[0m \u001b[32m━━━━━━━━━━━━━━━━━━━━\u001b[0m\u001b[37m\u001b[0m \u001b[1m1s\u001b[0m 2ms/step - accuracy: 0.9382 - loss: 0.2040 - val_accuracy: 0.9567 - val_loss: 0.1375\n",
      "Epoch 11/50\n",
      "\u001b[1m394/394\u001b[0m \u001b[32m━━━━━━━━━━━━━━━━━━━━\u001b[0m\u001b[37m\u001b[0m \u001b[1m1s\u001b[0m 2ms/step - accuracy: 0.9446 - loss: 0.1827 - val_accuracy: 0.9559 - val_loss: 0.1517\n",
      "Epoch 12/50\n",
      "\u001b[1m394/394\u001b[0m \u001b[32m━━━━━━━━━━━━━━━━━━━━\u001b[0m\u001b[37m\u001b[0m \u001b[1m1s\u001b[0m 2ms/step - accuracy: 0.9509 - loss: 0.1537 - val_accuracy: 0.9537 - val_loss: 0.1828\n",
      "Epoch 13/50\n",
      "\u001b[1m394/394\u001b[0m \u001b[32m━━━━━━━━━━━━━━━━━━━━\u001b[0m\u001b[37m\u001b[0m \u001b[1m1s\u001b[0m 2ms/step - accuracy: 0.9463 - loss: 0.1648 - val_accuracy: 0.9563 - val_loss: 0.1583\n",
      "CNN Test Loss: 0.1331\n",
      "CNN Test Accuracy: 0.9619\n",
      "Completed training CNN with MFCC features\n",
      "Training time: 24.78 seconds\n",
      "Model size: 0.00 MB (Not saved)\n",
      "Number of parameters: 0.07 million\n",
      "\n",
      "==================================================\n",
      "Training CNN with MEL features...\n",
      "==================================================\n",
      "Feature type: mel\n",
      "Number of samples: 18001\n",
      "Sample feature shape: (128, 32)\n",
      "X_train length: 12600\n",
      "X_train[0] shape: (128, 32)\n",
      "CNN Model Summary:\n"
     ]
    },
    {
     "data": {
      "text/html": [
       "<pre style=\"white-space:pre;overflow-x:auto;line-height:normal;font-family:Menlo,'DejaVu Sans Mono',consolas,'Courier New',monospace\"><span style=\"font-weight: bold\">Model: \"sequential_1\"</span>\n",
       "</pre>\n"
      ],
      "text/plain": [
       "\u001b[1mModel: \"sequential_1\"\u001b[0m\n"
      ]
     },
     "metadata": {},
     "output_type": "display_data"
    },
    {
     "data": {
      "text/html": [
       "<pre style=\"white-space:pre;overflow-x:auto;line-height:normal;font-family:Menlo,'DejaVu Sans Mono',consolas,'Courier New',monospace\">┏━━━━━━━━━━━━━━━━━━━━━━━━━━━━━━━━━━━━━━┳━━━━━━━━━━━━━━━━━━━━━━━━━━━━━┳━━━━━━━━━━━━━━━━━┓\n",
       "┃<span style=\"font-weight: bold\"> Layer (type)                         </span>┃<span style=\"font-weight: bold\"> Output Shape                </span>┃<span style=\"font-weight: bold\">         Param # </span>┃\n",
       "┡━━━━━━━━━━━━━━━━━━━━━━━━━━━━━━━━━━━━━━╇━━━━━━━━━━━━━━━━━━━━━━━━━━━━━╇━━━━━━━━━━━━━━━━━┩\n",
       "│ conv2d_2 (<span style=\"color: #0087ff; text-decoration-color: #0087ff\">Conv2D</span>)                    │ (<span style=\"color: #00d7ff; text-decoration-color: #00d7ff\">None</span>, <span style=\"color: #00af00; text-decoration-color: #00af00\">126</span>, <span style=\"color: #00af00; text-decoration-color: #00af00\">30</span>, <span style=\"color: #00af00; text-decoration-color: #00af00\">32</span>)         │             <span style=\"color: #00af00; text-decoration-color: #00af00\">320</span> │\n",
       "├──────────────────────────────────────┼─────────────────────────────┼─────────────────┤\n",
       "│ max_pooling2d_2 (<span style=\"color: #0087ff; text-decoration-color: #0087ff\">MaxPooling2D</span>)       │ (<span style=\"color: #00d7ff; text-decoration-color: #00d7ff\">None</span>, <span style=\"color: #00af00; text-decoration-color: #00af00\">63</span>, <span style=\"color: #00af00; text-decoration-color: #00af00\">15</span>, <span style=\"color: #00af00; text-decoration-color: #00af00\">32</span>)          │               <span style=\"color: #00af00; text-decoration-color: #00af00\">0</span> │\n",
       "├──────────────────────────────────────┼─────────────────────────────┼─────────────────┤\n",
       "│ conv2d_3 (<span style=\"color: #0087ff; text-decoration-color: #0087ff\">Conv2D</span>)                    │ (<span style=\"color: #00d7ff; text-decoration-color: #00d7ff\">None</span>, <span style=\"color: #00af00; text-decoration-color: #00af00\">61</span>, <span style=\"color: #00af00; text-decoration-color: #00af00\">13</span>, <span style=\"color: #00af00; text-decoration-color: #00af00\">64</span>)          │          <span style=\"color: #00af00; text-decoration-color: #00af00\">18,496</span> │\n",
       "├──────────────────────────────────────┼─────────────────────────────┼─────────────────┤\n",
       "│ max_pooling2d_3 (<span style=\"color: #0087ff; text-decoration-color: #0087ff\">MaxPooling2D</span>)       │ (<span style=\"color: #00d7ff; text-decoration-color: #00d7ff\">None</span>, <span style=\"color: #00af00; text-decoration-color: #00af00\">30</span>, <span style=\"color: #00af00; text-decoration-color: #00af00\">6</span>, <span style=\"color: #00af00; text-decoration-color: #00af00\">64</span>)           │               <span style=\"color: #00af00; text-decoration-color: #00af00\">0</span> │\n",
       "├──────────────────────────────────────┼─────────────────────────────┼─────────────────┤\n",
       "│ flatten_1 (<span style=\"color: #0087ff; text-decoration-color: #0087ff\">Flatten</span>)                  │ (<span style=\"color: #00d7ff; text-decoration-color: #00d7ff\">None</span>, <span style=\"color: #00af00; text-decoration-color: #00af00\">11520</span>)               │               <span style=\"color: #00af00; text-decoration-color: #00af00\">0</span> │\n",
       "├──────────────────────────────────────┼─────────────────────────────┼─────────────────┤\n",
       "│ dense_2 (<span style=\"color: #0087ff; text-decoration-color: #0087ff\">Dense</span>)                      │ (<span style=\"color: #00d7ff; text-decoration-color: #00d7ff\">None</span>, <span style=\"color: #00af00; text-decoration-color: #00af00\">128</span>)                 │       <span style=\"color: #00af00; text-decoration-color: #00af00\">1,474,688</span> │\n",
       "├──────────────────────────────────────┼─────────────────────────────┼─────────────────┤\n",
       "│ dropout_1 (<span style=\"color: #0087ff; text-decoration-color: #0087ff\">Dropout</span>)                  │ (<span style=\"color: #00d7ff; text-decoration-color: #00d7ff\">None</span>, <span style=\"color: #00af00; text-decoration-color: #00af00\">128</span>)                 │               <span style=\"color: #00af00; text-decoration-color: #00af00\">0</span> │\n",
       "├──────────────────────────────────────┼─────────────────────────────┼─────────────────┤\n",
       "│ dense_3 (<span style=\"color: #0087ff; text-decoration-color: #0087ff\">Dense</span>)                      │ (<span style=\"color: #00d7ff; text-decoration-color: #00d7ff\">None</span>, <span style=\"color: #00af00; text-decoration-color: #00af00\">12</span>)                  │           <span style=\"color: #00af00; text-decoration-color: #00af00\">1,548</span> │\n",
       "└──────────────────────────────────────┴─────────────────────────────┴─────────────────┘\n",
       "</pre>\n"
      ],
      "text/plain": [
       "┏━━━━━━━━━━━━━━━━━━━━━━━━━━━━━━━━━━━━━━┳━━━━━━━━━━━━━━━━━━━━━━━━━━━━━┳━━━━━━━━━━━━━━━━━┓\n",
       "┃\u001b[1m \u001b[0m\u001b[1mLayer (type)                        \u001b[0m\u001b[1m \u001b[0m┃\u001b[1m \u001b[0m\u001b[1mOutput Shape               \u001b[0m\u001b[1m \u001b[0m┃\u001b[1m \u001b[0m\u001b[1m        Param #\u001b[0m\u001b[1m \u001b[0m┃\n",
       "┡━━━━━━━━━━━━━━━━━━━━━━━━━━━━━━━━━━━━━━╇━━━━━━━━━━━━━━━━━━━━━━━━━━━━━╇━━━━━━━━━━━━━━━━━┩\n",
       "│ conv2d_2 (\u001b[38;5;33mConv2D\u001b[0m)                    │ (\u001b[38;5;45mNone\u001b[0m, \u001b[38;5;34m126\u001b[0m, \u001b[38;5;34m30\u001b[0m, \u001b[38;5;34m32\u001b[0m)         │             \u001b[38;5;34m320\u001b[0m │\n",
       "├──────────────────────────────────────┼─────────────────────────────┼─────────────────┤\n",
       "│ max_pooling2d_2 (\u001b[38;5;33mMaxPooling2D\u001b[0m)       │ (\u001b[38;5;45mNone\u001b[0m, \u001b[38;5;34m63\u001b[0m, \u001b[38;5;34m15\u001b[0m, \u001b[38;5;34m32\u001b[0m)          │               \u001b[38;5;34m0\u001b[0m │\n",
       "├──────────────────────────────────────┼─────────────────────────────┼─────────────────┤\n",
       "│ conv2d_3 (\u001b[38;5;33mConv2D\u001b[0m)                    │ (\u001b[38;5;45mNone\u001b[0m, \u001b[38;5;34m61\u001b[0m, \u001b[38;5;34m13\u001b[0m, \u001b[38;5;34m64\u001b[0m)          │          \u001b[38;5;34m18,496\u001b[0m │\n",
       "├──────────────────────────────────────┼─────────────────────────────┼─────────────────┤\n",
       "│ max_pooling2d_3 (\u001b[38;5;33mMaxPooling2D\u001b[0m)       │ (\u001b[38;5;45mNone\u001b[0m, \u001b[38;5;34m30\u001b[0m, \u001b[38;5;34m6\u001b[0m, \u001b[38;5;34m64\u001b[0m)           │               \u001b[38;5;34m0\u001b[0m │\n",
       "├──────────────────────────────────────┼─────────────────────────────┼─────────────────┤\n",
       "│ flatten_1 (\u001b[38;5;33mFlatten\u001b[0m)                  │ (\u001b[38;5;45mNone\u001b[0m, \u001b[38;5;34m11520\u001b[0m)               │               \u001b[38;5;34m0\u001b[0m │\n",
       "├──────────────────────────────────────┼─────────────────────────────┼─────────────────┤\n",
       "│ dense_2 (\u001b[38;5;33mDense\u001b[0m)                      │ (\u001b[38;5;45mNone\u001b[0m, \u001b[38;5;34m128\u001b[0m)                 │       \u001b[38;5;34m1,474,688\u001b[0m │\n",
       "├──────────────────────────────────────┼─────────────────────────────┼─────────────────┤\n",
       "│ dropout_1 (\u001b[38;5;33mDropout\u001b[0m)                  │ (\u001b[38;5;45mNone\u001b[0m, \u001b[38;5;34m128\u001b[0m)                 │               \u001b[38;5;34m0\u001b[0m │\n",
       "├──────────────────────────────────────┼─────────────────────────────┼─────────────────┤\n",
       "│ dense_3 (\u001b[38;5;33mDense\u001b[0m)                      │ (\u001b[38;5;45mNone\u001b[0m, \u001b[38;5;34m12\u001b[0m)                  │           \u001b[38;5;34m1,548\u001b[0m │\n",
       "└──────────────────────────────────────┴─────────────────────────────┴─────────────────┘\n"
      ]
     },
     "metadata": {},
     "output_type": "display_data"
    },
    {
     "data": {
      "text/html": [
       "<pre style=\"white-space:pre;overflow-x:auto;line-height:normal;font-family:Menlo,'DejaVu Sans Mono',consolas,'Courier New',monospace\"><span style=\"font-weight: bold\"> Total params: </span><span style=\"color: #00af00; text-decoration-color: #00af00\">1,495,052</span> (5.70 MB)\n",
       "</pre>\n"
      ],
      "text/plain": [
       "\u001b[1m Total params: \u001b[0m\u001b[38;5;34m1,495,052\u001b[0m (5.70 MB)\n"
      ]
     },
     "metadata": {},
     "output_type": "display_data"
    },
    {
     "data": {
      "text/html": [
       "<pre style=\"white-space:pre;overflow-x:auto;line-height:normal;font-family:Menlo,'DejaVu Sans Mono',consolas,'Courier New',monospace\"><span style=\"font-weight: bold\"> Trainable params: </span><span style=\"color: #00af00; text-decoration-color: #00af00\">1,495,052</span> (5.70 MB)\n",
       "</pre>\n"
      ],
      "text/plain": [
       "\u001b[1m Trainable params: \u001b[0m\u001b[38;5;34m1,495,052\u001b[0m (5.70 MB)\n"
      ]
     },
     "metadata": {},
     "output_type": "display_data"
    },
    {
     "data": {
      "text/html": [
       "<pre style=\"white-space:pre;overflow-x:auto;line-height:normal;font-family:Menlo,'DejaVu Sans Mono',consolas,'Courier New',monospace\"><span style=\"font-weight: bold\"> Non-trainable params: </span><span style=\"color: #00af00; text-decoration-color: #00af00\">0</span> (0.00 B)\n",
       "</pre>\n"
      ],
      "text/plain": [
       "\u001b[1m Non-trainable params: \u001b[0m\u001b[38;5;34m0\u001b[0m (0.00 B)\n"
      ]
     },
     "metadata": {},
     "output_type": "display_data"
    },
    {
     "name": "stdout",
     "output_type": "stream",
     "text": [
      "Epoch 1/50\n",
      "\u001b[1m394/394\u001b[0m \u001b[32m━━━━━━━━━━━━━━━━━━━━\u001b[0m\u001b[37m\u001b[0m \u001b[1m10s\u001b[0m 18ms/step - accuracy: 0.4740 - loss: 3.8057 - val_accuracy: 0.9633 - val_loss: 0.1323\n",
      "Epoch 2/50\n",
      "\u001b[1m394/394\u001b[0m \u001b[32m━━━━━━━━━━━━━━━━━━━━\u001b[0m\u001b[37m\u001b[0m \u001b[1m2s\u001b[0m 4ms/step - accuracy: 0.9129 - loss: 0.2641 - val_accuracy: 0.9752 - val_loss: 0.0783\n",
      "Epoch 3/50\n",
      "\u001b[1m394/394\u001b[0m \u001b[32m━━━━━━━━━━━━━━━━━━━━\u001b[0m\u001b[37m\u001b[0m \u001b[1m2s\u001b[0m 4ms/step - accuracy: 0.9405 - loss: 0.1918 - val_accuracy: 0.9715 - val_loss: 0.0821\n",
      "Epoch 4/50\n",
      "\u001b[1m394/394\u001b[0m \u001b[32m━━━━━━━━━━━━━━━━━━━━\u001b[0m\u001b[37m\u001b[0m \u001b[1m2s\u001b[0m 4ms/step - accuracy: 0.9435 - loss: 0.1743 - val_accuracy: 0.9804 - val_loss: 0.0592\n",
      "Epoch 5/50\n",
      "\u001b[1m394/394\u001b[0m \u001b[32m━━━━━━━━━━━━━━━━━━━━\u001b[0m\u001b[37m\u001b[0m \u001b[1m2s\u001b[0m 4ms/step - accuracy: 0.9479 - loss: 0.1581 - val_accuracy: 0.9685 - val_loss: 0.0941\n",
      "Epoch 6/50\n",
      "\u001b[1m394/394\u001b[0m \u001b[32m━━━━━━━━━━━━━━━━━━━━\u001b[0m\u001b[37m\u001b[0m \u001b[1m2s\u001b[0m 5ms/step - accuracy: 0.9561 - loss: 0.1338 - val_accuracy: 0.9770 - val_loss: 0.0716\n",
      "Epoch 7/50\n",
      "\u001b[1m394/394\u001b[0m \u001b[32m━━━━━━━━━━━━━━━━━━━━\u001b[0m\u001b[37m\u001b[0m \u001b[1m2s\u001b[0m 4ms/step - accuracy: 0.9562 - loss: 0.1314 - val_accuracy: 0.9800 - val_loss: 0.0631\n",
      "CNN Test Loss: 0.0651\n",
      "CNN Test Accuracy: 0.9807\n",
      "Completed training CNN with MEL features\n",
      "Training time: 22.82 seconds\n",
      "Model size: 0.00 MB (Not saved)\n",
      "Number of parameters: 1.50 million\n",
      "\n",
      "==================================================\n",
      "Training CNN with LPC features...\n",
      "==================================================\n",
      "Feature type: lpc\n",
      "Number of samples: 18001\n",
      "Sample feature shape: (12, 1)\n",
      "X_train length: 12600\n",
      "X_train[0] shape: (12, 1)\n",
      "CNN Model Summary:\n"
     ]
    },
    {
     "data": {
      "text/html": [
       "<pre style=\"white-space:pre;overflow-x:auto;line-height:normal;font-family:Menlo,'DejaVu Sans Mono',consolas,'Courier New',monospace\"><span style=\"font-weight: bold\">Model: \"sequential_2\"</span>\n",
       "</pre>\n"
      ],
      "text/plain": [
       "\u001b[1mModel: \"sequential_2\"\u001b[0m\n"
      ]
     },
     "metadata": {},
     "output_type": "display_data"
    },
    {
     "data": {
      "text/html": [
       "<pre style=\"white-space:pre;overflow-x:auto;line-height:normal;font-family:Menlo,'DejaVu Sans Mono',consolas,'Courier New',monospace\">┏━━━━━━━━━━━━━━━━━━━━━━━━━━━━━━━━━━━━━━┳━━━━━━━━━━━━━━━━━━━━━━━━━━━━━┳━━━━━━━━━━━━━━━━━┓\n",
       "┃<span style=\"font-weight: bold\"> Layer (type)                         </span>┃<span style=\"font-weight: bold\"> Output Shape                </span>┃<span style=\"font-weight: bold\">         Param # </span>┃\n",
       "┡━━━━━━━━━━━━━━━━━━━━━━━━━━━━━━━━━━━━━━╇━━━━━━━━━━━━━━━━━━━━━━━━━━━━━╇━━━━━━━━━━━━━━━━━┩\n",
       "│ dense_4 (<span style=\"color: #0087ff; text-decoration-color: #0087ff\">Dense</span>)                      │ (<span style=\"color: #00d7ff; text-decoration-color: #00d7ff\">None</span>, <span style=\"color: #00af00; text-decoration-color: #00af00\">128</span>)                 │           <span style=\"color: #00af00; text-decoration-color: #00af00\">1,664</span> │\n",
       "├──────────────────────────────────────┼─────────────────────────────┼─────────────────┤\n",
       "│ dropout_2 (<span style=\"color: #0087ff; text-decoration-color: #0087ff\">Dropout</span>)                  │ (<span style=\"color: #00d7ff; text-decoration-color: #00d7ff\">None</span>, <span style=\"color: #00af00; text-decoration-color: #00af00\">128</span>)                 │               <span style=\"color: #00af00; text-decoration-color: #00af00\">0</span> │\n",
       "├──────────────────────────────────────┼─────────────────────────────┼─────────────────┤\n",
       "│ dense_5 (<span style=\"color: #0087ff; text-decoration-color: #0087ff\">Dense</span>)                      │ (<span style=\"color: #00d7ff; text-decoration-color: #00d7ff\">None</span>, <span style=\"color: #00af00; text-decoration-color: #00af00\">64</span>)                  │           <span style=\"color: #00af00; text-decoration-color: #00af00\">8,256</span> │\n",
       "├──────────────────────────────────────┼─────────────────────────────┼─────────────────┤\n",
       "│ dropout_3 (<span style=\"color: #0087ff; text-decoration-color: #0087ff\">Dropout</span>)                  │ (<span style=\"color: #00d7ff; text-decoration-color: #00d7ff\">None</span>, <span style=\"color: #00af00; text-decoration-color: #00af00\">64</span>)                  │               <span style=\"color: #00af00; text-decoration-color: #00af00\">0</span> │\n",
       "├──────────────────────────────────────┼─────────────────────────────┼─────────────────┤\n",
       "│ dense_6 (<span style=\"color: #0087ff; text-decoration-color: #0087ff\">Dense</span>)                      │ (<span style=\"color: #00d7ff; text-decoration-color: #00d7ff\">None</span>, <span style=\"color: #00af00; text-decoration-color: #00af00\">12</span>)                  │             <span style=\"color: #00af00; text-decoration-color: #00af00\">780</span> │\n",
       "└──────────────────────────────────────┴─────────────────────────────┴─────────────────┘\n",
       "</pre>\n"
      ],
      "text/plain": [
       "┏━━━━━━━━━━━━━━━━━━━━━━━━━━━━━━━━━━━━━━┳━━━━━━━━━━━━━━━━━━━━━━━━━━━━━┳━━━━━━━━━━━━━━━━━┓\n",
       "┃\u001b[1m \u001b[0m\u001b[1mLayer (type)                        \u001b[0m\u001b[1m \u001b[0m┃\u001b[1m \u001b[0m\u001b[1mOutput Shape               \u001b[0m\u001b[1m \u001b[0m┃\u001b[1m \u001b[0m\u001b[1m        Param #\u001b[0m\u001b[1m \u001b[0m┃\n",
       "┡━━━━━━━━━━━━━━━━━━━━━━━━━━━━━━━━━━━━━━╇━━━━━━━━━━━━━━━━━━━━━━━━━━━━━╇━━━━━━━━━━━━━━━━━┩\n",
       "│ dense_4 (\u001b[38;5;33mDense\u001b[0m)                      │ (\u001b[38;5;45mNone\u001b[0m, \u001b[38;5;34m128\u001b[0m)                 │           \u001b[38;5;34m1,664\u001b[0m │\n",
       "├──────────────────────────────────────┼─────────────────────────────┼─────────────────┤\n",
       "│ dropout_2 (\u001b[38;5;33mDropout\u001b[0m)                  │ (\u001b[38;5;45mNone\u001b[0m, \u001b[38;5;34m128\u001b[0m)                 │               \u001b[38;5;34m0\u001b[0m │\n",
       "├──────────────────────────────────────┼─────────────────────────────┼─────────────────┤\n",
       "│ dense_5 (\u001b[38;5;33mDense\u001b[0m)                      │ (\u001b[38;5;45mNone\u001b[0m, \u001b[38;5;34m64\u001b[0m)                  │           \u001b[38;5;34m8,256\u001b[0m │\n",
       "├──────────────────────────────────────┼─────────────────────────────┼─────────────────┤\n",
       "│ dropout_3 (\u001b[38;5;33mDropout\u001b[0m)                  │ (\u001b[38;5;45mNone\u001b[0m, \u001b[38;5;34m64\u001b[0m)                  │               \u001b[38;5;34m0\u001b[0m │\n",
       "├──────────────────────────────────────┼─────────────────────────────┼─────────────────┤\n",
       "│ dense_6 (\u001b[38;5;33mDense\u001b[0m)                      │ (\u001b[38;5;45mNone\u001b[0m, \u001b[38;5;34m12\u001b[0m)                  │             \u001b[38;5;34m780\u001b[0m │\n",
       "└──────────────────────────────────────┴─────────────────────────────┴─────────────────┘\n"
      ]
     },
     "metadata": {},
     "output_type": "display_data"
    },
    {
     "data": {
      "text/html": [
       "<pre style=\"white-space:pre;overflow-x:auto;line-height:normal;font-family:Menlo,'DejaVu Sans Mono',consolas,'Courier New',monospace\"><span style=\"font-weight: bold\"> Total params: </span><span style=\"color: #00af00; text-decoration-color: #00af00\">10,700</span> (41.80 KB)\n",
       "</pre>\n"
      ],
      "text/plain": [
       "\u001b[1m Total params: \u001b[0m\u001b[38;5;34m10,700\u001b[0m (41.80 KB)\n"
      ]
     },
     "metadata": {},
     "output_type": "display_data"
    },
    {
     "data": {
      "text/html": [
       "<pre style=\"white-space:pre;overflow-x:auto;line-height:normal;font-family:Menlo,'DejaVu Sans Mono',consolas,'Courier New',monospace\"><span style=\"font-weight: bold\"> Trainable params: </span><span style=\"color: #00af00; text-decoration-color: #00af00\">10,700</span> (41.80 KB)\n",
       "</pre>\n"
      ],
      "text/plain": [
       "\u001b[1m Trainable params: \u001b[0m\u001b[38;5;34m10,700\u001b[0m (41.80 KB)\n"
      ]
     },
     "metadata": {},
     "output_type": "display_data"
    },
    {
     "data": {
      "text/html": [
       "<pre style=\"white-space:pre;overflow-x:auto;line-height:normal;font-family:Menlo,'DejaVu Sans Mono',consolas,'Courier New',monospace\"><span style=\"font-weight: bold\"> Non-trainable params: </span><span style=\"color: #00af00; text-decoration-color: #00af00\">0</span> (0.00 B)\n",
       "</pre>\n"
      ],
      "text/plain": [
       "\u001b[1m Non-trainable params: \u001b[0m\u001b[38;5;34m0\u001b[0m (0.00 B)\n"
      ]
     },
     "metadata": {},
     "output_type": "display_data"
    },
    {
     "name": "stdout",
     "output_type": "stream",
     "text": [
      "Epoch 1/50\n",
      "\u001b[1m394/394\u001b[0m \u001b[32m━━━━━━━━━━━━━━━━━━━━\u001b[0m\u001b[37m\u001b[0m \u001b[1m6s\u001b[0m 10ms/step - accuracy: 0.1464 - loss: 2.3909 - val_accuracy: 0.2267 - val_loss: 2.2391\n",
      "Epoch 2/50\n",
      "\u001b[1m394/394\u001b[0m \u001b[32m━━━━━━━━━━━━━━━━━━━━\u001b[0m\u001b[37m\u001b[0m \u001b[1m1s\u001b[0m 2ms/step - accuracy: 0.2092 - loss: 2.2381 - val_accuracy: 0.3159 - val_loss: 1.9996\n",
      "Epoch 3/50\n",
      "\u001b[1m394/394\u001b[0m \u001b[32m━━━━━━━━━━━━━━━━━━━━\u001b[0m\u001b[37m\u001b[0m \u001b[1m1s\u001b[0m 2ms/step - accuracy: 0.2872 - loss: 2.0341 - val_accuracy: 0.3519 - val_loss: 1.8566\n",
      "Epoch 4/50\n",
      "\u001b[1m394/394\u001b[0m \u001b[32m━━━━━━━━━━━━━━━━━━━━\u001b[0m\u001b[37m\u001b[0m \u001b[1m1s\u001b[0m 2ms/step - accuracy: 0.3076 - loss: 1.9357 - val_accuracy: 0.3526 - val_loss: 1.8303\n",
      "Epoch 5/50\n",
      "\u001b[1m394/394\u001b[0m \u001b[32m━━━━━━━━━━━━━━━━━━━━\u001b[0m\u001b[37m\u001b[0m \u001b[1m1s\u001b[0m 2ms/step - accuracy: 0.3179 - loss: 1.9159 - val_accuracy: 0.3630 - val_loss: 1.8142\n",
      "Epoch 6/50\n",
      "\u001b[1m394/394\u001b[0m \u001b[32m━━━━━━━━━━━━━━━━━━━━\u001b[0m\u001b[37m\u001b[0m \u001b[1m1s\u001b[0m 2ms/step - accuracy: 0.3270 - loss: 1.9053 - val_accuracy: 0.3507 - val_loss: 1.8043\n",
      "Epoch 7/50\n",
      "\u001b[1m394/394\u001b[0m \u001b[32m━━━━━━━━━━━━━━━━━━━━\u001b[0m\u001b[37m\u001b[0m \u001b[1m1s\u001b[0m 2ms/step - accuracy: 0.3350 - loss: 1.8936 - val_accuracy: 0.3689 - val_loss: 1.8082\n",
      "Epoch 8/50\n",
      "\u001b[1m394/394\u001b[0m \u001b[32m━━━━━━━━━━━━━━━━━━━━\u001b[0m\u001b[37m\u001b[0m \u001b[1m1s\u001b[0m 2ms/step - accuracy: 0.3336 - loss: 1.8903 - val_accuracy: 0.3593 - val_loss: 1.7920\n",
      "Epoch 9/50\n",
      "\u001b[1m394/394\u001b[0m \u001b[32m━━━━━━━━━━━━━━━━━━━━\u001b[0m\u001b[37m\u001b[0m \u001b[1m1s\u001b[0m 2ms/step - accuracy: 0.3479 - loss: 1.8627 - val_accuracy: 0.3681 - val_loss: 1.7908\n",
      "Epoch 10/50\n",
      "\u001b[1m394/394\u001b[0m \u001b[32m━━━━━━━━━━━━━━━━━━━━\u001b[0m\u001b[37m\u001b[0m \u001b[1m1s\u001b[0m 2ms/step - accuracy: 0.3503 - loss: 1.8511 - val_accuracy: 0.3600 - val_loss: 1.7879\n",
      "Epoch 11/50\n",
      "\u001b[1m394/394\u001b[0m \u001b[32m━━━━━━━━━━━━━━━━━━━━\u001b[0m\u001b[37m\u001b[0m \u001b[1m1s\u001b[0m 2ms/step - accuracy: 0.3461 - loss: 1.8760 - val_accuracy: 0.3726 - val_loss: 1.7854\n",
      "Epoch 12/50\n",
      "\u001b[1m394/394\u001b[0m \u001b[32m━━━━━━━━━━━━━━━━━━━━\u001b[0m\u001b[37m\u001b[0m \u001b[1m1s\u001b[0m 2ms/step - accuracy: 0.3393 - loss: 1.8744 - val_accuracy: 0.3593 - val_loss: 1.7787\n",
      "Epoch 13/50\n",
      "\u001b[1m394/394\u001b[0m \u001b[32m━━━━━━━━━━━━━━━━━━━━\u001b[0m\u001b[37m\u001b[0m \u001b[1m1s\u001b[0m 2ms/step - accuracy: 0.3468 - loss: 1.8644 - val_accuracy: 0.3663 - val_loss: 1.7773\n",
      "Epoch 14/50\n",
      "\u001b[1m394/394\u001b[0m \u001b[32m━━━━━━━━━━━━━━━━━━━━\u001b[0m\u001b[37m\u001b[0m \u001b[1m1s\u001b[0m 2ms/step - accuracy: 0.3425 - loss: 1.8570 - val_accuracy: 0.3648 - val_loss: 1.7731\n",
      "Epoch 15/50\n",
      "\u001b[1m394/394\u001b[0m \u001b[32m━━━━━━━━━━━━━━━━━━━━\u001b[0m\u001b[37m\u001b[0m \u001b[1m1s\u001b[0m 2ms/step - accuracy: 0.3493 - loss: 1.8707 - val_accuracy: 0.3630 - val_loss: 1.7737\n",
      "Epoch 16/50\n",
      "\u001b[1m394/394\u001b[0m \u001b[32m━━━━━━━━━━━━━━━━━━━━\u001b[0m\u001b[37m\u001b[0m \u001b[1m1s\u001b[0m 2ms/step - accuracy: 0.3494 - loss: 1.8444 - val_accuracy: 0.3611 - val_loss: 1.7681\n",
      "Epoch 17/50\n",
      "\u001b[1m394/394\u001b[0m \u001b[32m━━━━━━━━━━━━━━━━━━━━\u001b[0m\u001b[37m\u001b[0m \u001b[1m1s\u001b[0m 2ms/step - accuracy: 0.3422 - loss: 1.8443 - val_accuracy: 0.3781 - val_loss: 1.7720\n",
      "Epoch 18/50\n",
      "\u001b[1m394/394\u001b[0m \u001b[32m━━━━━━━━━━━━━━━━━━━━\u001b[0m\u001b[37m\u001b[0m \u001b[1m1s\u001b[0m 2ms/step - accuracy: 0.3485 - loss: 1.8563 - val_accuracy: 0.3700 - val_loss: 1.7761\n",
      "Epoch 19/50\n",
      "\u001b[1m394/394\u001b[0m \u001b[32m━━━━━━━━━━━━━━━━━━━━\u001b[0m\u001b[37m\u001b[0m \u001b[1m1s\u001b[0m 2ms/step - accuracy: 0.3565 - loss: 1.8301 - val_accuracy: 0.3648 - val_loss: 1.7710\n",
      "CNN Test Loss: 5.5279\n",
      "CNN Test Accuracy: 0.3691\n",
      "Completed training CNN with LPC features\n",
      "Training time: 18.65 seconds\n",
      "Model size: 0.00 MB (Not saved)\n",
      "Number of parameters: 0.01 million\n",
      "\n",
      "==================================================\n",
      "Training LSTM with MFCC features...\n",
      "==================================================\n",
      "Feature type: mfcc\n",
      "Number of samples: 18001\n",
      "Sample feature shape: (13, 32)\n",
      "X_train shape for LSTM: (12600, 32, 13)\n",
      "X_val shape for LSTM: (2700, 32, 13)\n",
      "X_test shape for LSTM: (2701, 32, 13)\n",
      "LSTM Model Summary:\n"
     ]
    },
    {
     "data": {
      "text/html": [
       "<pre style=\"white-space:pre;overflow-x:auto;line-height:normal;font-family:Menlo,'DejaVu Sans Mono',consolas,'Courier New',monospace\"><span style=\"font-weight: bold\">Model: \"sequential_3\"</span>\n",
       "</pre>\n"
      ],
      "text/plain": [
       "\u001b[1mModel: \"sequential_3\"\u001b[0m\n"
      ]
     },
     "metadata": {},
     "output_type": "display_data"
    },
    {
     "data": {
      "text/html": [
       "<pre style=\"white-space:pre;overflow-x:auto;line-height:normal;font-family:Menlo,'DejaVu Sans Mono',consolas,'Courier New',monospace\">┏━━━━━━━━━━━━━━━━━━━━━━━━━━━━━━━━━━━━━━┳━━━━━━━━━━━━━━━━━━━━━━━━━━━━━┳━━━━━━━━━━━━━━━━━┓\n",
       "┃<span style=\"font-weight: bold\"> Layer (type)                         </span>┃<span style=\"font-weight: bold\"> Output Shape                </span>┃<span style=\"font-weight: bold\">         Param # </span>┃\n",
       "┡━━━━━━━━━━━━━━━━━━━━━━━━━━━━━━━━━━━━━━╇━━━━━━━━━━━━━━━━━━━━━━━━━━━━━╇━━━━━━━━━━━━━━━━━┩\n",
       "│ lstm (<span style=\"color: #0087ff; text-decoration-color: #0087ff\">LSTM</span>)                          │ (<span style=\"color: #00d7ff; text-decoration-color: #00d7ff\">None</span>, <span style=\"color: #00af00; text-decoration-color: #00af00\">128</span>)                 │          <span style=\"color: #00af00; text-decoration-color: #00af00\">72,704</span> │\n",
       "├──────────────────────────────────────┼─────────────────────────────┼─────────────────┤\n",
       "│ dropout_4 (<span style=\"color: #0087ff; text-decoration-color: #0087ff\">Dropout</span>)                  │ (<span style=\"color: #00d7ff; text-decoration-color: #00d7ff\">None</span>, <span style=\"color: #00af00; text-decoration-color: #00af00\">128</span>)                 │               <span style=\"color: #00af00; text-decoration-color: #00af00\">0</span> │\n",
       "├──────────────────────────────────────┼─────────────────────────────┼─────────────────┤\n",
       "│ dense_7 (<span style=\"color: #0087ff; text-decoration-color: #0087ff\">Dense</span>)                      │ (<span style=\"color: #00d7ff; text-decoration-color: #00d7ff\">None</span>, <span style=\"color: #00af00; text-decoration-color: #00af00\">64</span>)                  │           <span style=\"color: #00af00; text-decoration-color: #00af00\">8,256</span> │\n",
       "├──────────────────────────────────────┼─────────────────────────────┼─────────────────┤\n",
       "│ dropout_5 (<span style=\"color: #0087ff; text-decoration-color: #0087ff\">Dropout</span>)                  │ (<span style=\"color: #00d7ff; text-decoration-color: #00d7ff\">None</span>, <span style=\"color: #00af00; text-decoration-color: #00af00\">64</span>)                  │               <span style=\"color: #00af00; text-decoration-color: #00af00\">0</span> │\n",
       "├──────────────────────────────────────┼─────────────────────────────┼─────────────────┤\n",
       "│ dense_8 (<span style=\"color: #0087ff; text-decoration-color: #0087ff\">Dense</span>)                      │ (<span style=\"color: #00d7ff; text-decoration-color: #00d7ff\">None</span>, <span style=\"color: #00af00; text-decoration-color: #00af00\">12</span>)                  │             <span style=\"color: #00af00; text-decoration-color: #00af00\">780</span> │\n",
       "└──────────────────────────────────────┴─────────────────────────────┴─────────────────┘\n",
       "</pre>\n"
      ],
      "text/plain": [
       "┏━━━━━━━━━━━━━━━━━━━━━━━━━━━━━━━━━━━━━━┳━━━━━━━━━━━━━━━━━━━━━━━━━━━━━┳━━━━━━━━━━━━━━━━━┓\n",
       "┃\u001b[1m \u001b[0m\u001b[1mLayer (type)                        \u001b[0m\u001b[1m \u001b[0m┃\u001b[1m \u001b[0m\u001b[1mOutput Shape               \u001b[0m\u001b[1m \u001b[0m┃\u001b[1m \u001b[0m\u001b[1m        Param #\u001b[0m\u001b[1m \u001b[0m┃\n",
       "┡━━━━━━━━━━━━━━━━━━━━━━━━━━━━━━━━━━━━━━╇━━━━━━━━━━━━━━━━━━━━━━━━━━━━━╇━━━━━━━━━━━━━━━━━┩\n",
       "│ lstm (\u001b[38;5;33mLSTM\u001b[0m)                          │ (\u001b[38;5;45mNone\u001b[0m, \u001b[38;5;34m128\u001b[0m)                 │          \u001b[38;5;34m72,704\u001b[0m │\n",
       "├──────────────────────────────────────┼─────────────────────────────┼─────────────────┤\n",
       "│ dropout_4 (\u001b[38;5;33mDropout\u001b[0m)                  │ (\u001b[38;5;45mNone\u001b[0m, \u001b[38;5;34m128\u001b[0m)                 │               \u001b[38;5;34m0\u001b[0m │\n",
       "├──────────────────────────────────────┼─────────────────────────────┼─────────────────┤\n",
       "│ dense_7 (\u001b[38;5;33mDense\u001b[0m)                      │ (\u001b[38;5;45mNone\u001b[0m, \u001b[38;5;34m64\u001b[0m)                  │           \u001b[38;5;34m8,256\u001b[0m │\n",
       "├──────────────────────────────────────┼─────────────────────────────┼─────────────────┤\n",
       "│ dropout_5 (\u001b[38;5;33mDropout\u001b[0m)                  │ (\u001b[38;5;45mNone\u001b[0m, \u001b[38;5;34m64\u001b[0m)                  │               \u001b[38;5;34m0\u001b[0m │\n",
       "├──────────────────────────────────────┼─────────────────────────────┼─────────────────┤\n",
       "│ dense_8 (\u001b[38;5;33mDense\u001b[0m)                      │ (\u001b[38;5;45mNone\u001b[0m, \u001b[38;5;34m12\u001b[0m)                  │             \u001b[38;5;34m780\u001b[0m │\n",
       "└──────────────────────────────────────┴─────────────────────────────┴─────────────────┘\n"
      ]
     },
     "metadata": {},
     "output_type": "display_data"
    },
    {
     "data": {
      "text/html": [
       "<pre style=\"white-space:pre;overflow-x:auto;line-height:normal;font-family:Menlo,'DejaVu Sans Mono',consolas,'Courier New',monospace\"><span style=\"font-weight: bold\"> Total params: </span><span style=\"color: #00af00; text-decoration-color: #00af00\">81,740</span> (319.30 KB)\n",
       "</pre>\n"
      ],
      "text/plain": [
       "\u001b[1m Total params: \u001b[0m\u001b[38;5;34m81,740\u001b[0m (319.30 KB)\n"
      ]
     },
     "metadata": {},
     "output_type": "display_data"
    },
    {
     "data": {
      "text/html": [
       "<pre style=\"white-space:pre;overflow-x:auto;line-height:normal;font-family:Menlo,'DejaVu Sans Mono',consolas,'Courier New',monospace\"><span style=\"font-weight: bold\"> Trainable params: </span><span style=\"color: #00af00; text-decoration-color: #00af00\">81,740</span> (319.30 KB)\n",
       "</pre>\n"
      ],
      "text/plain": [
       "\u001b[1m Trainable params: \u001b[0m\u001b[38;5;34m81,740\u001b[0m (319.30 KB)\n"
      ]
     },
     "metadata": {},
     "output_type": "display_data"
    },
    {
     "data": {
      "text/html": [
       "<pre style=\"white-space:pre;overflow-x:auto;line-height:normal;font-family:Menlo,'DejaVu Sans Mono',consolas,'Courier New',monospace\"><span style=\"font-weight: bold\"> Non-trainable params: </span><span style=\"color: #00af00; text-decoration-color: #00af00\">0</span> (0.00 B)\n",
       "</pre>\n"
      ],
      "text/plain": [
       "\u001b[1m Non-trainable params: \u001b[0m\u001b[38;5;34m0\u001b[0m (0.00 B)\n"
      ]
     },
     "metadata": {},
     "output_type": "display_data"
    },
    {
     "name": "stdout",
     "output_type": "stream",
     "text": [
      "Epoch 1/50\n",
      "\u001b[1m394/394\u001b[0m \u001b[32m━━━━━━━━━━━━━━━━━━━━\u001b[0m\u001b[37m\u001b[0m \u001b[1m6s\u001b[0m 5ms/step - accuracy: 0.2798 - loss: 2.1071 - val_accuracy: 0.8556 - val_loss: 0.6703\n",
      "Epoch 2/50\n",
      "\u001b[1m394/394\u001b[0m \u001b[32m━━━━━━━━━━━━━━━━━━━━\u001b[0m\u001b[37m\u001b[0m \u001b[1m2s\u001b[0m 5ms/step - accuracy: 0.6871 - loss: 0.9249 - val_accuracy: 0.9515 - val_loss: 0.2342\n",
      "Epoch 3/50\n",
      "\u001b[1m394/394\u001b[0m \u001b[32m━━━━━━━━━━━━━━━━━━━━\u001b[0m\u001b[37m\u001b[0m \u001b[1m2s\u001b[0m 5ms/step - accuracy: 0.8372 - loss: 0.5199 - val_accuracy: 0.9670 - val_loss: 0.1245\n",
      "Epoch 4/50\n",
      "\u001b[1m394/394\u001b[0m \u001b[32m━━━━━━━━━━━━━━━━━━━━\u001b[0m\u001b[37m\u001b[0m \u001b[1m2s\u001b[0m 5ms/step - accuracy: 0.8860 - loss: 0.3697 - val_accuracy: 0.9796 - val_loss: 0.0784\n",
      "Epoch 5/50\n",
      "\u001b[1m394/394\u001b[0m \u001b[32m━━━━━━━━━━━━━━━━━━━━\u001b[0m\u001b[37m\u001b[0m \u001b[1m2s\u001b[0m 5ms/step - accuracy: 0.9175 - loss: 0.2665 - val_accuracy: 0.9841 - val_loss: 0.0653\n",
      "Epoch 6/50\n",
      "\u001b[1m394/394\u001b[0m \u001b[32m━━━━━━━━━━━━━━━━━━━━\u001b[0m\u001b[37m\u001b[0m \u001b[1m2s\u001b[0m 5ms/step - accuracy: 0.9229 - loss: 0.2490 - val_accuracy: 0.9833 - val_loss: 0.0579\n",
      "Epoch 7/50\n",
      "\u001b[1m394/394\u001b[0m \u001b[32m━━━━━━━━━━━━━━━━━━━━\u001b[0m\u001b[37m\u001b[0m \u001b[1m2s\u001b[0m 5ms/step - accuracy: 0.9327 - loss: 0.2208 - val_accuracy: 0.9793 - val_loss: 0.0658\n",
      "Epoch 8/50\n",
      "\u001b[1m394/394\u001b[0m \u001b[32m━━━━━━━━━━━━━━━━━━━━\u001b[0m\u001b[37m\u001b[0m \u001b[1m2s\u001b[0m 5ms/step - accuracy: 0.9397 - loss: 0.1950 - val_accuracy: 0.9789 - val_loss: 0.0655\n",
      "Epoch 9/50\n",
      "\u001b[1m394/394\u001b[0m \u001b[32m━━━━━━━━━━━━━━━━━━━━\u001b[0m\u001b[37m\u001b[0m \u001b[1m2s\u001b[0m 5ms/step - accuracy: 0.9441 - loss: 0.1862 - val_accuracy: 0.9804 - val_loss: 0.0608\n",
      "Early stopping triggered at epoch 9\n",
      "Test Loss: 0.0694\n",
      "Test Accuracy: 0.9822\n",
      "Completed training LSTM with MFCC features\n",
      "Training time: 21.88 seconds\n",
      "Model size: 0.00 MB (Not saved)\n",
      "Number of parameters: 0.08 million\n",
      "\n",
      "==================================================\n",
      "Training LSTM with MEL features...\n",
      "==================================================\n",
      "Feature type: mel\n",
      "Number of samples: 18001\n",
      "Sample feature shape: (128, 32)\n",
      "X_train shape for LSTM: (12600, 32, 128)\n",
      "X_val shape for LSTM: (2700, 32, 128)\n",
      "X_test shape for LSTM: (2701, 32, 128)\n",
      "LSTM Model Summary:\n"
     ]
    },
    {
     "data": {
      "text/html": [
       "<pre style=\"white-space:pre;overflow-x:auto;line-height:normal;font-family:Menlo,'DejaVu Sans Mono',consolas,'Courier New',monospace\"><span style=\"font-weight: bold\">Model: \"sequential_4\"</span>\n",
       "</pre>\n"
      ],
      "text/plain": [
       "\u001b[1mModel: \"sequential_4\"\u001b[0m\n"
      ]
     },
     "metadata": {},
     "output_type": "display_data"
    },
    {
     "data": {
      "text/html": [
       "<pre style=\"white-space:pre;overflow-x:auto;line-height:normal;font-family:Menlo,'DejaVu Sans Mono',consolas,'Courier New',monospace\">┏━━━━━━━━━━━━━━━━━━━━━━━━━━━━━━━━━━━━━━┳━━━━━━━━━━━━━━━━━━━━━━━━━━━━━┳━━━━━━━━━━━━━━━━━┓\n",
       "┃<span style=\"font-weight: bold\"> Layer (type)                         </span>┃<span style=\"font-weight: bold\"> Output Shape                </span>┃<span style=\"font-weight: bold\">         Param # </span>┃\n",
       "┡━━━━━━━━━━━━━━━━━━━━━━━━━━━━━━━━━━━━━━╇━━━━━━━━━━━━━━━━━━━━━━━━━━━━━╇━━━━━━━━━━━━━━━━━┩\n",
       "│ lstm_1 (<span style=\"color: #0087ff; text-decoration-color: #0087ff\">LSTM</span>)                        │ (<span style=\"color: #00d7ff; text-decoration-color: #00d7ff\">None</span>, <span style=\"color: #00af00; text-decoration-color: #00af00\">128</span>)                 │         <span style=\"color: #00af00; text-decoration-color: #00af00\">131,584</span> │\n",
       "├──────────────────────────────────────┼─────────────────────────────┼─────────────────┤\n",
       "│ dropout_6 (<span style=\"color: #0087ff; text-decoration-color: #0087ff\">Dropout</span>)                  │ (<span style=\"color: #00d7ff; text-decoration-color: #00d7ff\">None</span>, <span style=\"color: #00af00; text-decoration-color: #00af00\">128</span>)                 │               <span style=\"color: #00af00; text-decoration-color: #00af00\">0</span> │\n",
       "├──────────────────────────────────────┼─────────────────────────────┼─────────────────┤\n",
       "│ dense_9 (<span style=\"color: #0087ff; text-decoration-color: #0087ff\">Dense</span>)                      │ (<span style=\"color: #00d7ff; text-decoration-color: #00d7ff\">None</span>, <span style=\"color: #00af00; text-decoration-color: #00af00\">64</span>)                  │           <span style=\"color: #00af00; text-decoration-color: #00af00\">8,256</span> │\n",
       "├──────────────────────────────────────┼─────────────────────────────┼─────────────────┤\n",
       "│ dropout_7 (<span style=\"color: #0087ff; text-decoration-color: #0087ff\">Dropout</span>)                  │ (<span style=\"color: #00d7ff; text-decoration-color: #00d7ff\">None</span>, <span style=\"color: #00af00; text-decoration-color: #00af00\">64</span>)                  │               <span style=\"color: #00af00; text-decoration-color: #00af00\">0</span> │\n",
       "├──────────────────────────────────────┼─────────────────────────────┼─────────────────┤\n",
       "│ dense_10 (<span style=\"color: #0087ff; text-decoration-color: #0087ff\">Dense</span>)                     │ (<span style=\"color: #00d7ff; text-decoration-color: #00d7ff\">None</span>, <span style=\"color: #00af00; text-decoration-color: #00af00\">12</span>)                  │             <span style=\"color: #00af00; text-decoration-color: #00af00\">780</span> │\n",
       "└──────────────────────────────────────┴─────────────────────────────┴─────────────────┘\n",
       "</pre>\n"
      ],
      "text/plain": [
       "┏━━━━━━━━━━━━━━━━━━━━━━━━━━━━━━━━━━━━━━┳━━━━━━━━━━━━━━━━━━━━━━━━━━━━━┳━━━━━━━━━━━━━━━━━┓\n",
       "┃\u001b[1m \u001b[0m\u001b[1mLayer (type)                        \u001b[0m\u001b[1m \u001b[0m┃\u001b[1m \u001b[0m\u001b[1mOutput Shape               \u001b[0m\u001b[1m \u001b[0m┃\u001b[1m \u001b[0m\u001b[1m        Param #\u001b[0m\u001b[1m \u001b[0m┃\n",
       "┡━━━━━━━━━━━━━━━━━━━━━━━━━━━━━━━━━━━━━━╇━━━━━━━━━━━━━━━━━━━━━━━━━━━━━╇━━━━━━━━━━━━━━━━━┩\n",
       "│ lstm_1 (\u001b[38;5;33mLSTM\u001b[0m)                        │ (\u001b[38;5;45mNone\u001b[0m, \u001b[38;5;34m128\u001b[0m)                 │         \u001b[38;5;34m131,584\u001b[0m │\n",
       "├──────────────────────────────────────┼─────────────────────────────┼─────────────────┤\n",
       "│ dropout_6 (\u001b[38;5;33mDropout\u001b[0m)                  │ (\u001b[38;5;45mNone\u001b[0m, \u001b[38;5;34m128\u001b[0m)                 │               \u001b[38;5;34m0\u001b[0m │\n",
       "├──────────────────────────────────────┼─────────────────────────────┼─────────────────┤\n",
       "│ dense_9 (\u001b[38;5;33mDense\u001b[0m)                      │ (\u001b[38;5;45mNone\u001b[0m, \u001b[38;5;34m64\u001b[0m)                  │           \u001b[38;5;34m8,256\u001b[0m │\n",
       "├──────────────────────────────────────┼─────────────────────────────┼─────────────────┤\n",
       "│ dropout_7 (\u001b[38;5;33mDropout\u001b[0m)                  │ (\u001b[38;5;45mNone\u001b[0m, \u001b[38;5;34m64\u001b[0m)                  │               \u001b[38;5;34m0\u001b[0m │\n",
       "├──────────────────────────────────────┼─────────────────────────────┼─────────────────┤\n",
       "│ dense_10 (\u001b[38;5;33mDense\u001b[0m)                     │ (\u001b[38;5;45mNone\u001b[0m, \u001b[38;5;34m12\u001b[0m)                  │             \u001b[38;5;34m780\u001b[0m │\n",
       "└──────────────────────────────────────┴─────────────────────────────┴─────────────────┘\n"
      ]
     },
     "metadata": {},
     "output_type": "display_data"
    },
    {
     "data": {
      "text/html": [
       "<pre style=\"white-space:pre;overflow-x:auto;line-height:normal;font-family:Menlo,'DejaVu Sans Mono',consolas,'Courier New',monospace\"><span style=\"font-weight: bold\"> Total params: </span><span style=\"color: #00af00; text-decoration-color: #00af00\">140,620</span> (549.30 KB)\n",
       "</pre>\n"
      ],
      "text/plain": [
       "\u001b[1m Total params: \u001b[0m\u001b[38;5;34m140,620\u001b[0m (549.30 KB)\n"
      ]
     },
     "metadata": {},
     "output_type": "display_data"
    },
    {
     "data": {
      "text/html": [
       "<pre style=\"white-space:pre;overflow-x:auto;line-height:normal;font-family:Menlo,'DejaVu Sans Mono',consolas,'Courier New',monospace\"><span style=\"font-weight: bold\"> Trainable params: </span><span style=\"color: #00af00; text-decoration-color: #00af00\">140,620</span> (549.30 KB)\n",
       "</pre>\n"
      ],
      "text/plain": [
       "\u001b[1m Trainable params: \u001b[0m\u001b[38;5;34m140,620\u001b[0m (549.30 KB)\n"
      ]
     },
     "metadata": {},
     "output_type": "display_data"
    },
    {
     "data": {
      "text/html": [
       "<pre style=\"white-space:pre;overflow-x:auto;line-height:normal;font-family:Menlo,'DejaVu Sans Mono',consolas,'Courier New',monospace\"><span style=\"font-weight: bold\"> Non-trainable params: </span><span style=\"color: #00af00; text-decoration-color: #00af00\">0</span> (0.00 B)\n",
       "</pre>\n"
      ],
      "text/plain": [
       "\u001b[1m Non-trainable params: \u001b[0m\u001b[38;5;34m0\u001b[0m (0.00 B)\n"
      ]
     },
     "metadata": {},
     "output_type": "display_data"
    },
    {
     "name": "stdout",
     "output_type": "stream",
     "text": [
      "Epoch 1/50\n",
      "\u001b[1m394/394\u001b[0m \u001b[32m━━━━━━━━━━━━━━━━━━━━\u001b[0m\u001b[37m\u001b[0m \u001b[1m4s\u001b[0m 6ms/step - accuracy: 0.0820 - loss: 2.5782 - val_accuracy: 0.0837 - val_loss: 2.4844\n",
      "Epoch 2/50\n",
      "\u001b[1m394/394\u001b[0m \u001b[32m━━━━━━━━━━━━━━━━━━━━\u001b[0m\u001b[37m\u001b[0m \u001b[1m2s\u001b[0m 5ms/step - accuracy: 0.0884 - loss: 2.4872 - val_accuracy: 0.0837 - val_loss: 2.4840\n",
      "Epoch 3/50\n",
      "\u001b[1m394/394\u001b[0m \u001b[32m━━━━━━━━━━━━━━━━━━━━\u001b[0m\u001b[37m\u001b[0m \u001b[1m2s\u001b[0m 5ms/step - accuracy: 0.0805 - loss: 2.4868 - val_accuracy: 0.0837 - val_loss: 2.4840\n",
      "Epoch 4/50\n",
      "\u001b[1m394/394\u001b[0m \u001b[32m━━━━━━━━━━━━━━━━━━━━\u001b[0m\u001b[37m\u001b[0m \u001b[1m2s\u001b[0m 6ms/step - accuracy: 0.0832 - loss: 2.4839 - val_accuracy: 0.0837 - val_loss: 2.4840\n",
      "Epoch 5/50\n",
      "\u001b[1m394/394\u001b[0m \u001b[32m━━━━━━━━━━━━━━━━━━━━\u001b[0m\u001b[37m\u001b[0m \u001b[1m2s\u001b[0m 5ms/step - accuracy: 0.0884 - loss: 2.4849 - val_accuracy: 0.0837 - val_loss: 2.4840\n",
      "Epoch 6/50\n",
      "\u001b[1m394/394\u001b[0m \u001b[32m━━━━━━━━━━━━━━━━━━━━\u001b[0m\u001b[37m\u001b[0m \u001b[1m2s\u001b[0m 5ms/step - accuracy: 0.0796 - loss: 2.4847 - val_accuracy: 0.0837 - val_loss: 2.4840\n",
      "Epoch 7/50\n",
      "\u001b[1m394/394\u001b[0m \u001b[32m━━━━━━━━━━━━━━━━━━━━\u001b[0m\u001b[37m\u001b[0m \u001b[1m2s\u001b[0m 5ms/step - accuracy: 0.0803 - loss: 2.4853 - val_accuracy: 0.0837 - val_loss: 2.4840\n",
      "Early stopping triggered at epoch 7\n",
      "Test Loss: 2.4849\n",
      "Test Accuracy: 0.0833\n",
      "Completed training LSTM with MEL features\n",
      "Training time: 17.86 seconds\n",
      "Model size: 0.00 MB (Not saved)\n",
      "Number of parameters: 0.14 million\n",
      "\n",
      "==================================================\n",
      "Training LSTM with LPC features...\n",
      "==================================================\n",
      "Feature type: lpc\n",
      "Number of samples: 18001\n",
      "Sample feature shape: (12, 1)\n",
      "X_train shape for LSTM: (12600, 12, 1)\n",
      "X_val shape for LSTM: (2700, 12, 1)\n",
      "X_test shape for LSTM: (2701, 12, 1)\n",
      "LSTM Model Summary:\n"
     ]
    },
    {
     "data": {
      "text/html": [
       "<pre style=\"white-space:pre;overflow-x:auto;line-height:normal;font-family:Menlo,'DejaVu Sans Mono',consolas,'Courier New',monospace\"><span style=\"font-weight: bold\">Model: \"sequential_5\"</span>\n",
       "</pre>\n"
      ],
      "text/plain": [
       "\u001b[1mModel: \"sequential_5\"\u001b[0m\n"
      ]
     },
     "metadata": {},
     "output_type": "display_data"
    },
    {
     "data": {
      "text/html": [
       "<pre style=\"white-space:pre;overflow-x:auto;line-height:normal;font-family:Menlo,'DejaVu Sans Mono',consolas,'Courier New',monospace\">┏━━━━━━━━━━━━━━━━━━━━━━━━━━━━━━━━━━━━━━┳━━━━━━━━━━━━━━━━━━━━━━━━━━━━━┳━━━━━━━━━━━━━━━━━┓\n",
       "┃<span style=\"font-weight: bold\"> Layer (type)                         </span>┃<span style=\"font-weight: bold\"> Output Shape                </span>┃<span style=\"font-weight: bold\">         Param # </span>┃\n",
       "┡━━━━━━━━━━━━━━━━━━━━━━━━━━━━━━━━━━━━━━╇━━━━━━━━━━━━━━━━━━━━━━━━━━━━━╇━━━━━━━━━━━━━━━━━┩\n",
       "│ lstm_2 (<span style=\"color: #0087ff; text-decoration-color: #0087ff\">LSTM</span>)                        │ (<span style=\"color: #00d7ff; text-decoration-color: #00d7ff\">None</span>, <span style=\"color: #00af00; text-decoration-color: #00af00\">128</span>)                 │          <span style=\"color: #00af00; text-decoration-color: #00af00\">66,560</span> │\n",
       "├──────────────────────────────────────┼─────────────────────────────┼─────────────────┤\n",
       "│ dropout_8 (<span style=\"color: #0087ff; text-decoration-color: #0087ff\">Dropout</span>)                  │ (<span style=\"color: #00d7ff; text-decoration-color: #00d7ff\">None</span>, <span style=\"color: #00af00; text-decoration-color: #00af00\">128</span>)                 │               <span style=\"color: #00af00; text-decoration-color: #00af00\">0</span> │\n",
       "├──────────────────────────────────────┼─────────────────────────────┼─────────────────┤\n",
       "│ dense_11 (<span style=\"color: #0087ff; text-decoration-color: #0087ff\">Dense</span>)                     │ (<span style=\"color: #00d7ff; text-decoration-color: #00d7ff\">None</span>, <span style=\"color: #00af00; text-decoration-color: #00af00\">64</span>)                  │           <span style=\"color: #00af00; text-decoration-color: #00af00\">8,256</span> │\n",
       "├──────────────────────────────────────┼─────────────────────────────┼─────────────────┤\n",
       "│ dropout_9 (<span style=\"color: #0087ff; text-decoration-color: #0087ff\">Dropout</span>)                  │ (<span style=\"color: #00d7ff; text-decoration-color: #00d7ff\">None</span>, <span style=\"color: #00af00; text-decoration-color: #00af00\">64</span>)                  │               <span style=\"color: #00af00; text-decoration-color: #00af00\">0</span> │\n",
       "├──────────────────────────────────────┼─────────────────────────────┼─────────────────┤\n",
       "│ dense_12 (<span style=\"color: #0087ff; text-decoration-color: #0087ff\">Dense</span>)                     │ (<span style=\"color: #00d7ff; text-decoration-color: #00d7ff\">None</span>, <span style=\"color: #00af00; text-decoration-color: #00af00\">12</span>)                  │             <span style=\"color: #00af00; text-decoration-color: #00af00\">780</span> │\n",
       "└──────────────────────────────────────┴─────────────────────────────┴─────────────────┘\n",
       "</pre>\n"
      ],
      "text/plain": [
       "┏━━━━━━━━━━━━━━━━━━━━━━━━━━━━━━━━━━━━━━┳━━━━━━━━━━━━━━━━━━━━━━━━━━━━━┳━━━━━━━━━━━━━━━━━┓\n",
       "┃\u001b[1m \u001b[0m\u001b[1mLayer (type)                        \u001b[0m\u001b[1m \u001b[0m┃\u001b[1m \u001b[0m\u001b[1mOutput Shape               \u001b[0m\u001b[1m \u001b[0m┃\u001b[1m \u001b[0m\u001b[1m        Param #\u001b[0m\u001b[1m \u001b[0m┃\n",
       "┡━━━━━━━━━━━━━━━━━━━━━━━━━━━━━━━━━━━━━━╇━━━━━━━━━━━━━━━━━━━━━━━━━━━━━╇━━━━━━━━━━━━━━━━━┩\n",
       "│ lstm_2 (\u001b[38;5;33mLSTM\u001b[0m)                        │ (\u001b[38;5;45mNone\u001b[0m, \u001b[38;5;34m128\u001b[0m)                 │          \u001b[38;5;34m66,560\u001b[0m │\n",
       "├──────────────────────────────────────┼─────────────────────────────┼─────────────────┤\n",
       "│ dropout_8 (\u001b[38;5;33mDropout\u001b[0m)                  │ (\u001b[38;5;45mNone\u001b[0m, \u001b[38;5;34m128\u001b[0m)                 │               \u001b[38;5;34m0\u001b[0m │\n",
       "├──────────────────────────────────────┼─────────────────────────────┼─────────────────┤\n",
       "│ dense_11 (\u001b[38;5;33mDense\u001b[0m)                     │ (\u001b[38;5;45mNone\u001b[0m, \u001b[38;5;34m64\u001b[0m)                  │           \u001b[38;5;34m8,256\u001b[0m │\n",
       "├──────────────────────────────────────┼─────────────────────────────┼─────────────────┤\n",
       "│ dropout_9 (\u001b[38;5;33mDropout\u001b[0m)                  │ (\u001b[38;5;45mNone\u001b[0m, \u001b[38;5;34m64\u001b[0m)                  │               \u001b[38;5;34m0\u001b[0m │\n",
       "├──────────────────────────────────────┼─────────────────────────────┼─────────────────┤\n",
       "│ dense_12 (\u001b[38;5;33mDense\u001b[0m)                     │ (\u001b[38;5;45mNone\u001b[0m, \u001b[38;5;34m12\u001b[0m)                  │             \u001b[38;5;34m780\u001b[0m │\n",
       "└──────────────────────────────────────┴─────────────────────────────┴─────────────────┘\n"
      ]
     },
     "metadata": {},
     "output_type": "display_data"
    },
    {
     "data": {
      "text/html": [
       "<pre style=\"white-space:pre;overflow-x:auto;line-height:normal;font-family:Menlo,'DejaVu Sans Mono',consolas,'Courier New',monospace\"><span style=\"font-weight: bold\"> Total params: </span><span style=\"color: #00af00; text-decoration-color: #00af00\">75,596</span> (295.30 KB)\n",
       "</pre>\n"
      ],
      "text/plain": [
       "\u001b[1m Total params: \u001b[0m\u001b[38;5;34m75,596\u001b[0m (295.30 KB)\n"
      ]
     },
     "metadata": {},
     "output_type": "display_data"
    },
    {
     "data": {
      "text/html": [
       "<pre style=\"white-space:pre;overflow-x:auto;line-height:normal;font-family:Menlo,'DejaVu Sans Mono',consolas,'Courier New',monospace\"><span style=\"font-weight: bold\"> Trainable params: </span><span style=\"color: #00af00; text-decoration-color: #00af00\">75,596</span> (295.30 KB)\n",
       "</pre>\n"
      ],
      "text/plain": [
       "\u001b[1m Trainable params: \u001b[0m\u001b[38;5;34m75,596\u001b[0m (295.30 KB)\n"
      ]
     },
     "metadata": {},
     "output_type": "display_data"
    },
    {
     "data": {
      "text/html": [
       "<pre style=\"white-space:pre;overflow-x:auto;line-height:normal;font-family:Menlo,'DejaVu Sans Mono',consolas,'Courier New',monospace\"><span style=\"font-weight: bold\"> Non-trainable params: </span><span style=\"color: #00af00; text-decoration-color: #00af00\">0</span> (0.00 B)\n",
       "</pre>\n"
      ],
      "text/plain": [
       "\u001b[1m Non-trainable params: \u001b[0m\u001b[38;5;34m0\u001b[0m (0.00 B)\n"
      ]
     },
     "metadata": {},
     "output_type": "display_data"
    },
    {
     "name": "stdout",
     "output_type": "stream",
     "text": [
      "Epoch 1/50\n",
      "\u001b[1m394/394\u001b[0m \u001b[32m━━━━━━━━━━━━━━━━━━━━\u001b[0m\u001b[37m\u001b[0m \u001b[1m3s\u001b[0m 5ms/step - accuracy: 0.1280 - loss: 2.4228 - val_accuracy: 0.1681 - val_loss: 2.2957\n",
      "Epoch 2/50\n",
      "\u001b[1m394/394\u001b[0m \u001b[32m━━━━━━━━━━━━━━━━━━━━\u001b[0m\u001b[37m\u001b[0m \u001b[1m2s\u001b[0m 4ms/step - accuracy: 0.1689 - loss: 2.3181 - val_accuracy: 0.2467 - val_loss: 2.1951\n",
      "Epoch 3/50\n",
      "\u001b[1m394/394\u001b[0m \u001b[32m━━━━━━━━━━━━━━━━━━━━\u001b[0m\u001b[37m\u001b[0m \u001b[1m2s\u001b[0m 4ms/step - accuracy: 0.2596 - loss: 2.0949 - val_accuracy: 0.3444 - val_loss: 1.8458\n",
      "Epoch 4/50\n",
      "\u001b[1m394/394\u001b[0m \u001b[32m━━━━━━━━━━━━━━━━━━━━\u001b[0m\u001b[37m\u001b[0m \u001b[1m2s\u001b[0m 4ms/step - accuracy: 0.3218 - loss: 1.9284 - val_accuracy: 0.3600 - val_loss: 1.8003\n",
      "Epoch 5/50\n",
      "\u001b[1m394/394\u001b[0m \u001b[32m━━━━━━━━━━━━━━━━━━━━\u001b[0m\u001b[37m\u001b[0m \u001b[1m2s\u001b[0m 4ms/step - accuracy: 0.3432 - loss: 1.8905 - val_accuracy: 0.3707 - val_loss: 1.7905\n",
      "Epoch 6/50\n",
      "\u001b[1m394/394\u001b[0m \u001b[32m━━━━━━━━━━━━━━━━━━━━\u001b[0m\u001b[37m\u001b[0m \u001b[1m2s\u001b[0m 5ms/step - accuracy: 0.3524 - loss: 1.8487 - val_accuracy: 0.3700 - val_loss: 1.7810\n",
      "Epoch 7/50\n",
      "\u001b[1m394/394\u001b[0m \u001b[32m━━━━━━━━━━━━━━━━━━━━\u001b[0m\u001b[37m\u001b[0m \u001b[1m2s\u001b[0m 5ms/step - accuracy: 0.3390 - loss: 1.8474 - val_accuracy: 0.3674 - val_loss: 1.7718\n",
      "Epoch 8/50\n",
      "\u001b[1m394/394\u001b[0m \u001b[32m━━━━━━━━━━━━━━━━━━━━\u001b[0m\u001b[37m\u001b[0m \u001b[1m2s\u001b[0m 4ms/step - accuracy: 0.3496 - loss: 1.8310 - val_accuracy: 0.3615 - val_loss: 1.7635\n",
      "Epoch 9/50\n",
      "\u001b[1m394/394\u001b[0m \u001b[32m━━━━━━━━━━━━━━━━━━━━\u001b[0m\u001b[37m\u001b[0m \u001b[1m2s\u001b[0m 4ms/step - accuracy: 0.3436 - loss: 1.8427 - val_accuracy: 0.3670 - val_loss: 1.7727\n",
      "Epoch 10/50\n",
      "\u001b[1m394/394\u001b[0m \u001b[32m━━━━━━━━━━━━━━━━━━━━\u001b[0m\u001b[37m\u001b[0m \u001b[1m2s\u001b[0m 4ms/step - accuracy: 0.3525 - loss: 1.8286 - val_accuracy: 0.3637 - val_loss: 1.7514\n",
      "Epoch 11/50\n",
      "\u001b[1m394/394\u001b[0m \u001b[32m━━━━━━━━━━━━━━━━━━━━\u001b[0m\u001b[37m\u001b[0m \u001b[1m2s\u001b[0m 4ms/step - accuracy: 0.3571 - loss: 1.8216 - val_accuracy: 0.3656 - val_loss: 1.7556\n",
      "Epoch 12/50\n",
      "\u001b[1m394/394\u001b[0m \u001b[32m━━━━━━━━━━━━━━━━━━━━\u001b[0m\u001b[37m\u001b[0m \u001b[1m2s\u001b[0m 4ms/step - accuracy: 0.3522 - loss: 1.8271 - val_accuracy: 0.3530 - val_loss: 1.8093\n",
      "Epoch 13/50\n",
      "\u001b[1m394/394\u001b[0m \u001b[32m━━━━━━━━━━━━━━━━━━━━\u001b[0m\u001b[37m\u001b[0m \u001b[1m2s\u001b[0m 4ms/step - accuracy: 0.3562 - loss: 1.8169 - val_accuracy: 0.3756 - val_loss: 1.7402\n",
      "Epoch 14/50\n",
      "\u001b[1m394/394\u001b[0m \u001b[32m━━━━━━━━━━━━━━━━━━━━\u001b[0m\u001b[37m\u001b[0m \u001b[1m2s\u001b[0m 4ms/step - accuracy: 0.3481 - loss: 1.8110 - val_accuracy: 0.3596 - val_loss: 1.7632\n",
      "Epoch 15/50\n",
      "\u001b[1m394/394\u001b[0m \u001b[32m━━━━━━━━━━━━━━━━━━━━\u001b[0m\u001b[37m\u001b[0m \u001b[1m2s\u001b[0m 4ms/step - accuracy: 0.3490 - loss: 1.8282 - val_accuracy: 0.3730 - val_loss: 1.7435\n",
      "Epoch 16/50\n",
      "\u001b[1m394/394\u001b[0m \u001b[32m━━━━━━━━━━━━━━━━━━━━\u001b[0m\u001b[37m\u001b[0m \u001b[1m2s\u001b[0m 4ms/step - accuracy: 0.3557 - loss: 1.8109 - val_accuracy: 0.3637 - val_loss: 1.7466\n",
      "Early stopping triggered at epoch 16\n",
      "Test Loss: 1.7443\n",
      "Test Accuracy: 0.3784\n",
      "Completed training LSTM with LPC features\n",
      "Training time: 30.11 seconds\n",
      "Model size: 0.00 MB (Not saved)\n",
      "Number of parameters: 0.08 million\n"
     ]
    },
    {
     "data": {
      "text/plain": [
       "<Figure size 1200x600 with 0 Axes>"
      ]
     },
     "metadata": {},
     "output_type": "display_data"
    },
    {
     "data": {
      "image/png": "[encoded data removed]",
      "text/plain": [
       "<Figure size 1000x600 with 1 Axes>"
      ]
     },
     "metadata": {},
     "output_type": "display_data"
    },
    {
     "name": "stdout",
     "output_type": "stream",
     "text": [
      "\n",
      "Best model: LSTM with MFCC features\n",
      "Validation accuracy: 0.9804\n",
      "\u001b[1m85/85\u001b[0m \u001b[32m━━━━━━━━━━━━━━━━━━━━\u001b[0m\u001b[37m\u001b[0m \u001b[1m0s\u001b[0m 3ms/step\n"
     ]
    },
    {
     "data": {
      "image/png": "[encoded data removed]",
      "text/plain": [
       "<Figure size 1200x1000 with 2 Axes>"
      ]
     },
     "metadata": {},
     "output_type": "display_data"
    },
    {
     "data": {
      "image/png": "[encoded data removed]",
      "text/plain": [
       "<Figure size 1200x1800 with 3 Axes>"
      ]
     },
     "metadata": {},
     "output_type": "display_data"
    }
   ],
   "source": [
    "if __name__ == \"__main__\":\n",
    "    main()"
   ]
  },
  {
   "cell_type": "code",
   "execution_count": null,
   "id": "dc63ab35",
   "metadata": {
    "papermill": {
     "duration": 0.139046,
     "end_time": "2025-03-22T06:39:47.794541",
     "exception": false,
     "start_time": "2025-03-22T06:39:47.655495",
     "status": "completed"
    },
    "tags": []
   },
   "outputs": [],
   "source": []
  },
  {
   "cell_type": "code",
   "execution_count": null,
   "id": "7ffd6d2d",
   "metadata": {
    "papermill": {
     "duration": 0.091069,
     "end_time": "2025-03-22T06:39:47.979309",
     "exception": false,
     "start_time": "2025-03-22T06:39:47.888240",
     "status": "completed"
    },
    "tags": []
   },
   "outputs": [],
   "source": []
  }
 ],
 "metadata": {
  "kaggle": {
   "accelerator": "nvidiaTeslaT4",
   "dataSources": [
    {
     "datasetId": 6673549,
     "sourceId": 10758846,
     "sourceType": "datasetVersion"
    }
   ],
   "dockerImageVersionId": 30919,
   "isGpuEnabled": true,
   "isInternetEnabled": true,
   "language": "python",
   "sourceType": "notebook"
  },
  "kernelspec": {
   "display_name": "Python 3",
   "language": "python",
   "name": "python3"
  },
  "language_info": {
   "codemirror_mode": {
    "name": "ipython",
    "version": 3
   },
   "file_extension": ".py",
   "mimetype": "text/x-python",
   "name": "python",
   "nbconvert_exporter": "python",
   "pygments_lexer": "ipython3",
   "version": "3.10.12"
  },
  "papermill": {
   "default_parameters": {},
   "duration": 1677.593387,
   "end_time": "2025-03-22T06:39:51.758262",
   "environment_variables": {},
   "exception": null,
   "input_path": "__notebook__.ipynb",
   "output_path": "__notebook__.ipynb",
   "parameters": {},
   "start_time": "2025-03-22T06:11:54.164875",
   "version": "2.6.0"
  }
 },
 "nbformat": 4,
 "nbformat_minor": 5
}
